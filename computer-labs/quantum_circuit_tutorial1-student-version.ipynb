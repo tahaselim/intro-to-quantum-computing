{
 "cells": [
  {
   "cell_type": "markdown",
   "metadata": {},
   "source": [
    "#  Intro to Quantum Computing with Qiskit \n",
    "### Tutorial 1: Basics of Quantum Circuits\n",
    "\n",
    "|||\n",
    "|-|-|\n",
    "|**Author:** |Taha Selim|\n",
    "|**Date:** |April 12th, 2024|\n",
    "|**Tutrial 1:** |**1.00**<br/>*Basics of Quantum Circuits*|\n",
    "|**License:** |MIT License / Taha Selim|\n",
    "|**Qiskit:** |1.0|\n",
    "|**Contact:** | t.i.m.m.selim2@hva.nl\n"
   ]
  },
  {
   "cell_type": "markdown",
   "metadata": {},
   "source": [
    "In this tutorial, we will learn the basics of quantum circuits. We will start with the basic quantum gates and then move on to more complex circuits. We will also learn how to simulate quantum circuits using Qiskit.\n",
    "\n",
    "To refresh our coding skills, we will do some programming exercises. First, we will create a simple qubit state and then apply some quantum gates to it. \n",
    "\n",
    "Let's get started!"
   ]
  },
  {
   "cell_type": "markdown",
   "metadata": {},
   "source": [
    "First, create a function that initializes a qubit in the state $|0\\rangle$. You will program this function in the next cell using the following code: \n",
    "\n",
    "```python\n",
    "def initialize_qubit(): \n",
    "    ket0 = np.array([[1], [0]])\n",
    "    return ket0\n",
    "\n",
    "```"
   ]
  },
  {
   "cell_type": "code",
   "execution_count": null,
   "metadata": {},
   "outputs": [],
   "source": []
  },
  {
   "cell_type": "markdown",
   "metadata": {},
   "source": [
    "Run and check the code:"
   ]
  },
  {
   "cell_type": "code",
   "execution_count": null,
   "metadata": {},
   "outputs": [],
   "source": [
    "# test the function\n",
    "ket0 = initialize_qubit()\n",
    "# print the result\n",
    "print(ket0)"
   ]
  },
  {
   "cell_type": "markdown",
   "metadata": {},
   "source": [
    "Apply Hadamard gate to the qubit state $|0\\rangle$. You will program this function in the next cell using the following code: "
   ]
  },
  {
   "cell_type": "code",
   "execution_count": null,
   "metadata": {},
   "outputs": [],
   "source": [
    "# code the function \n",
    "def apply_hadamard(ket): \n",
    "    hadamard = np.array([[1, 1], [1, -1]]) / np.sqrt(2)\n",
    "    return np.dot(hadamard, ket)"
   ]
  },
  {
   "cell_type": "code",
   "execution_count": null,
   "metadata": {},
   "outputs": [],
   "source": [
    "# test the function\n",
    "ket0 = initialize_qubit()\n",
    "ket1 = apply_hadamard(ket0)\n",
    "print(ket1)"
   ]
  },
  {
   "cell_type": "markdown",
   "metadata": {},
   "source": [
    "We will do the same with the Pauli-X gate. Create a function that applies the Pauli-X gate to a qubit. You will program this function in the next cell using the following code: \n",
    "\n",
    "```python\n",
    "def apply_pauli_x(ket): \n",
    "    pauli_x = np.array([[0, 1], [1, 0]])\n",
    "    return np.dot(pauli_x, ket)\n",
    "```\n"
   ]
  },
  {
   "cell_type": "code",
   "execution_count": null,
   "metadata": {},
   "outputs": [],
   "source": []
  },
  {
   "cell_type": "code",
   "execution_count": null,
   "metadata": {},
   "outputs": [],
   "source": [
    "# test the function apply_pauli_x\n",
    "ket0 = initialize_qubit()\n",
    "ket1 = apply_pauli_x(ket0)\n",
    "print(ket1)"
   ]
  },
  {
   "cell_type": "markdown",
   "metadata": {},
   "source": [
    "What do you think the output? Can you interpret the results? Can you tell us about the quantum state of the qubit after applying the Hadamard gate?"
   ]
  },
  {
   "cell_type": "markdown",
   "metadata": {},
   "source": [
    "##### you can write your answer here"
   ]
  },
  {
   "cell_type": "markdown",
   "metadata": {},
   "source": [
    "Can you perform the measurements?"
   ]
  },
  {
   "cell_type": "code",
   "execution_count": null,
   "metadata": {},
   "outputs": [],
   "source": [
    "# code the function\n",
    "def measure_qubit(ket):\n",
    "    prob0 = np.abs(ket[0, 0])**2\n",
    "    measurement = np.random.choice([0, 1], p=[prob0, 1 - prob0])\n",
    "    return measurement"
   ]
  },
  {
   "cell_type": "code",
   "execution_count": null,
   "metadata": {},
   "outputs": [],
   "source": [
    "# test measurement\n",
    "ket0 = initialize_qubit()\n",
    "ket1 = apply_hadamard(ket0)\n",
    "measurement = measure_qubit(ket1)\n",
    "print(measurement)"
   ]
  },
  {
   "cell_type": "code",
   "execution_count": null,
   "metadata": {},
   "outputs": [],
   "source": [
    "ket0 = initialize_qubit()\n",
    "ket1 = apply_hadamard(ket0)\n",
    "prob0 = np.abs(ket1[0, 0])**2\n",
    "#print(prob0)\n",
    "print(ket1[1, 0])\n",
    "measurement = np.random.choice([0, 1], p=[prob0, 1 - prob0])\n",
    "print(measurement)"
   ]
  },
  {
   "cell_type": "markdown",
   "metadata": {},
   "source": [
    "Now, we comes to part 2 of the tutorial. We will learn how to simulate quantum circuits using Qiskit. First, we will install Qiskit using the following code:\n",
    "\n",
    "```python\n",
    "!pip install qiskit\n",
    "```\n",
    "\n",
    "Check first if Qiskit is already installed in your environment. If not, install it using the code above."
   ]
  },
  {
   "cell_type": "markdown",
   "metadata": {},
   "source": [
    "Then, we need to import the necessary libraries. Run the following code:\n",
    "\n",
    "```python\n",
    "\n",
    "# Import the necessary libraries \n",
    "import numpy as np\n",
    "import matplotlib.pyplot as plt\n",
    "\n",
    "```"
   ]
  },
  {
   "cell_type": "markdown",
   "metadata": {},
   "source": [
    "Then, import the necessary Qiskit libraries:\n",
    "\n",
    "```python\n",
    "# Import qiskit libraries\n",
    "from qiskit import QuantumCircuit, ClassicalRegister, QuantumRegister\n",
    "from qiskit.circuit import Parameter\n",
    "```"
   ]
  },
  {
   "cell_type": "code",
   "execution_count": null,
   "metadata": {},
   "outputs": [],
   "source": [
    "# Import qiskit libraries\n",
    "from qiskit import QuantumCircuit, ClassicalRegister, QuantumRegister\n",
    "from qiskit.circuit import Parameter"
   ]
  },
  {
   "cell_type": "markdown",
   "metadata": {},
   "source": [
    "Let's create now a simple quantum circuit with one qubit. We will apply the Hadamard gate to the qubit and then measure it using qiskit. We will compare the results from qiskit with the results from our previous code (our model).\n",
    "\n",
    "```python"
   ]
  },
  {
   "cell_type": "markdown",
   "metadata": {},
   "source": [
    "To create or initialize a quantum register with qiskit, we use the following code:\n",
    "\n",
    "```python\n",
    "# Create a quantum register with 1 qubit\n",
    "q = QuantumRegister(1)\n",
    "```\n"
   ]
  },
  {
   "cell_type": "code",
   "execution_count": null,
   "metadata": {},
   "outputs": [],
   "source": [
    "# Create a quantum register of 1 qubit\n",
    "qreg = QuantumRegister(1)"
   ]
  },
  {
   "cell_type": "markdown",
   "metadata": {},
   "source": [
    "Often, we need to do measurements on the qubits. To do this, we need to create a classical register. We can create a classical register with the following code:\n",
    "\n",
    "```python\n",
    "# Create a classical register with 1 bit\n",
    "c = ClassicalRegister(1)\n",
    "```"
   ]
  },
  {
   "cell_type": "code",
   "execution_count": null,
   "metadata": {},
   "outputs": [],
   "source": [
    "# create a classical register of 1 bit\n",
    "creg = ClassicalRegister(1)"
   ]
  },
  {
   "cell_type": "markdown",
   "metadata": {},
   "source": [
    "In Qiskit, once we have created the quantum and classical registers, we can create a quantum circuit using the following code:\n",
    "\n",
    "```python\n",
    "# Create a quantum circuit\n",
    "qc = QuantumCircuit(q, c)\n",
    "```"
   ]
  },
  {
   "cell_type": "code",
   "execution_count": null,
   "metadata": {},
   "outputs": [],
   "source": [
    "# Create a quantum circuit with qreg and creg\n",
    "circuit = QuantumCircuit(qreg, creg)"
   ]
  },
  {
   "cell_type": "markdown",
   "metadata": {},
   "source": [
    "We can also print the circuit using the following code:\n",
    "\n",
    "```python\n",
    "# Print the circuit\n",
    "print(qc)\n",
    "```"
   ]
  },
  {
   "cell_type": "code",
   "execution_count": null,
   "metadata": {},
   "outputs": [],
   "source": [
    "# print the circuit\n",
    "print(circuit)"
   ]
  },
  {
   "cell_type": "markdown",
   "metadata": {},
   "source": [
    "If we would like to have the circuit in a graphical form, we can use the following code:\n",
    "\n",
    "```python\n",
    "# Draw the circuit\n",
    "qc.draw()\n",
    "```"
   ]
  },
  {
   "cell_type": "code",
   "execution_count": null,
   "metadata": {},
   "outputs": [],
   "source": [
    "# Draw the circuit\n",
    "circuit.draw(output='mpl')"
   ]
  },
  {
   "cell_type": "markdown",
   "metadata": {},
   "source": [
    "We can now apply a quantum gate like the Hadamard gate to the qubit. We can do this using the following code:\n",
    "\n",
    "```python\n",
    "# Apply the Hadamard gate to the qubit\n",
    "qc.h(q[0])\n",
    "```\n",
    "\n",
    "Notice here, qubits are taken as an array. So, if we have more than one qubit, we can access them using the array index."
   ]
  },
  {
   "cell_type": "code",
   "execution_count": null,
   "metadata": {},
   "outputs": [],
   "source": [
    "# Apply a Hadamard gate on qubit 0\n",
    "circuit.h(qreg[0])\n",
    "\n",
    "# Draw the circuit\n",
    "circuit.draw(output='mpl')"
   ]
  },
  {
   "cell_type": "markdown",
   "metadata": {},
   "source": [
    "Often, we need to measure the qubits. We can do this using the following code:\n",
    "\n",
    "```python\n",
    "# Measure the qubit\n",
    "qc.measure(q, c)\n",
    "```\n",
    "\n",
    "Here, it means that we are measuring the qubit and storing the result in the classical register.\n",
    "\n"
   ]
  },
  {
   "cell_type": "code",
   "execution_count": null,
   "metadata": {},
   "outputs": [],
   "source": [
    "# Measure qubit 0\n",
    "circuit.measure(qreg[0], creg[0])\n",
    "\n",
    "# print the result\n",
    "print(circuit)\n",
    "\n"
   ]
  },
  {
   "cell_type": "code",
   "execution_count": null,
   "metadata": {},
   "outputs": [],
   "source": [
    "# Draw the circuit\n",
    "circuit.draw(output='mpl')\n"
   ]
  },
  {
   "cell_type": "markdown",
   "metadata": {},
   "source": [
    "We can retrieve several attributes of the quantum circuit like the number of qubits, the number of classical bits, and the number of gates using the following code:\n",
    "\n",
    "```python\n",
    "# Get the number of qubits\n",
    "print(qc.num_qubits)\n",
    "\n",
    "# Get the number of classical bits\n",
    "print(qc.num_clbits)\n",
    "\n",
    "# Get the number of gates\n",
    "print(qc.size())\n",
    "```"
   ]
  },
  {
   "cell_type": "code",
   "execution_count": null,
   "metadata": {},
   "outputs": [],
   "source": []
  },
  {
   "cell_type": "markdown",
   "metadata": {},
   "source": [
    "You can also retrieve the qubit statevector using the following code:\n",
    "\n",
    "```python\n",
    "# Import the necessary libraries\n",
    "from qiskit.quantum_info import partial_trace, Statevector\n",
    "\n",
    "# Get the qubit statevector\n",
    "qc.save_statevector()\n",
    "```\n"
   ]
  },
  {
   "cell_type": "markdown",
   "metadata": {},
   "source": [
    "#### Example: \n",
    "\n",
    "Construct a quantum circuit of a single qubit and a single classical bit. Apply the Hadamard gate to the qubit and compare the newely obtained statevector to the statevector of the qubit when it is initialized in the state $|0\\rangle$.\n",
    "\n",
    "\n",
    "The following code gives an example: \n",
    "\n",
    "```python\n",
    "# Get the statevector of the circuit\n",
    "from qiskit.quantum_info import partial_trace, Statevector\n",
    "\n",
    "\n",
    "qreg = QuantumRegister(1)\n",
    "creg = ClassicalRegister(1)\n",
    "qc = QuantumCircuit(qreg, creg)\n",
    "\n",
    "qc.h(qreg[0])\n",
    "\n",
    "sv = Statevector(qc)\n",
    "\n",
    "print(sv)\n",
    "```"
   ]
  },
  {
   "cell_type": "code",
   "execution_count": null,
   "metadata": {},
   "outputs": [],
   "source": []
  },
  {
   "cell_type": "markdown",
   "metadata": {},
   "source": [
    "#### Question\n",
    "\n",
    "Now, let's extend the code a bit. Create the same quantum circuit of one qubit and one classical bit, however this time apply the Hadamard gate twice to the qubit and print the statevector of the qubit. Compare the statevector to the statevector of the qubit when it is initialized in the state $|0\\rangle$.\n",
    "```python"
   ]
  },
  {
   "cell_type": "markdown",
   "metadata": {},
   "source": [
    "We can perform measurements on the whole qubits or on a specific qubit. \n",
    "\n",
    "On a specific qubit, as mentioned before:\n",
    "```python\n",
    "# Measure the qubit\n",
    "qc.measure(q[0], c[0])\n",
    "```\n",
    "For measuring all the qubits:\n",
    "```python\n",
    "# Measure all the qubits\n",
    "qc.measure_all()\n",
    "```"
   ]
  },
  {
   "cell_type": "markdown",
   "metadata": {},
   "source": [
    "Example, let's construct a quantum circuit with 2 qubits and apply the CNOT gate to the qubits. We will then measure the qubits and compare the results with our model.\n",
    "\n",
    "```python\n",
    "# Create a quantum register with 2 qubits\n",
    "q = QuantumRegister(2)\n",
    "\n",
    "# Create a classical register with 2 bits\n",
    "c = ClassicalRegister(2)\n",
    "\n",
    "# Create a quantum circuit\n",
    "qc = QuantumCircuit(q, c)\n",
    "\n",
    "# Apply the CNOT gate to the qubits\n",
    "qc.cx(q[0], q[1])\n",
    "\n",
    "# Measure the qubits\n",
    "qc.measure(q, c)\n",
    "\n",
    "# Draw the circuit\n",
    "qc.draw()\n",
    "```\n",
    "\n",
    "You can notice that, when we apply the CNOT gate, we need to specify the control qubit and the target qubit. In this case, q[0] is the control qubit and q[1] is the target qubit.\n",
    "\n",
    "Also, when we perform measurements, we need to specify the qubits to measure. In this case, we are measuring all the qubits. This would mean we get a total measurements of the entire quantum state  of the qubits."
   ]
  },
  {
   "cell_type": "code",
   "execution_count": null,
   "metadata": {},
   "outputs": [],
   "source": [
    "# construct a quantum circuit of two qubits, qreg[0] and qreg[1]\n",
    "qreg = QuantumRegister(2)\n",
    "creg = ClassicalRegister(2)\n",
    "circuit = QuantumCircuit(qreg, creg)\n",
    "\n",
    "# apply CNOT gate with qreg[0] as control and qreg[1] as target\n",
    "circuit.cx(qreg[0], qreg[1])\n",
    "\n",
    "# measure both qubits\n",
    "circuit.measure_all()\n",
    "\n",
    "# draw the circuit\n",
    "circuit.draw(output='mpl')"
   ]
  },
  {
   "cell_type": "markdown",
   "metadata": {},
   "source": [
    "Now, let's simulate the quantum circuit using Qiskit. We can do this using the following code:\n",
    "\n",
    "```python\n",
    "\n",
    "# Import the necessary libraries\n",
    "\n",
    "from qiskit import QuantumCircuit, transpile\n",
    "from qiskit.providers.basic_provider import BasicSimulator\n",
    "\n",
    "# To plot the results, import the following library\n",
    "from qiskit.visualization import plot_histogram\n",
    "\n",
    "# Create a quantum circuit of one qubit and one classical bit\n",
    "qc = QuantumCircuit(1, 1)\n",
    "\n",
    "# Apply the Hadamard gate to the qubit\n",
    "qc.h(0)\n",
    "\n",
    "# Measure the qubit\n",
    "qc.measure(0, 0)\n",
    "\n",
    "# Simulate the quantum circuit\n",
    "simulator = BasicSimulator()\n",
    "\n",
    "# Transpile the quantum circuit\n",
    "job = sim_backend.run(transpile(qc, simulator), shots=1024)\n",
    "\n",
    "# Get the result\n",
    "result = job.result()\n",
    "\n",
    "# Get the counts\n",
    "counts = result.get_counts(qc)\n",
    "\n",
    "# Print the counts\n",
    "print(counts)\n",
    "```\n",
    "\n"
   ]
  },
  {
   "cell_type": "code",
   "execution_count": null,
   "metadata": {},
   "outputs": [],
   "source": [
    "# First, import the necessary libraries\n",
    "from qiskit import QuantumCircuit, transpile\n",
    "from qiskit.providers.basic_provider import BasicSimulator"
   ]
  },
  {
   "cell_type": "code",
   "execution_count": null,
   "metadata": {},
   "outputs": [],
   "source": [
    "# Try to run the circuit\n",
    "# Create a quantum circuit of 1 qubit and 1 bit\n",
    "qreg = QuantumRegister(1)\n",
    "creg = ClassicalRegister(1)\n",
    "circuit = QuantumCircuit(qreg, creg)\n",
    "\n",
    "# apply Hadamard gate\n",
    "circuit.h(qreg[0])\n",
    "\n",
    "# measure the qubit\n",
    "circuit.measure(qreg[0], creg[0])\n",
    "\n",
    "# Specify the backend (the simulator)\n",
    "simulator = BasicSimulator()\n",
    "\n",
    "# Transpile the circuit for the simulator\n",
    "compiled_circuit = transpile(circuit, simulator)\n",
    "\n",
    "# Run the compiled circuit\n",
    "job = simulator.run(compiled_circuit)\n",
    "\n",
    "# Get the result\n",
    "result = job.result()\n",
    "\n",
    "# Print the counts\n",
    "print(result.get_counts())\n",
    "\n",
    "# Plot the histogram\n",
    "plot_histogram(result.get_counts())\n"
   ]
  },
  {
   "cell_type": "markdown",
   "metadata": {},
   "source": [
    "#### Question:\n",
    "Notice, what happens when you run the code. Can you interpret the results? Can you tell us about the quantum state of the qubit after applying the Hadamard gate?"
   ]
  },
  {
   "cell_type": "markdown",
   "metadata": {},
   "source": [
    "#### Question: \n",
    "What is the difference between the quantum circuit with one qubit and the quantum circuit with two qubits? Can you explain the difference in the results?"
   ]
  },
  {
   "cell_type": "markdown",
   "metadata": {},
   "source": [
    "#### Question:\n",
    "\n",
    "What happens when you increase the number of shots in the simulation? Can you explain the results?"
   ]
  },
  {
   "cell_type": "markdown",
   "metadata": {},
   "source": [
    "#### Question\n",
    "\n",
    "Now, create a quantum circuit of three qubits:\n",
    "\n",
    " - What is the size of the Hilbert space?\n",
    " - What is the size of the matrix representation of a qubit gate acting on a qubit in the Hilbert space of three qubits?\n",
    " - What is the size of the matrix representation of a two-qubit gate acting on two qubits in the Hilbert space of three qubits?\n",
    " - What is the size of the state vector of the quantum circuit with three qubits?\n"
   ]
  },
  {
   "cell_type": "markdown",
   "metadata": {},
   "source": [
    "\n",
    "Let's do some exercises to test your understanding of quantum circuits:\n",
    "\n",
    "##### Use the circuit that you created in the previous question with three qubits:\n",
    "\n",
    "- Apply the Hadamard gate to the first and second qubits simultaneously. \n",
    "- Then, apply the CNOT gate to the first and second qubits. Draw the circuit. \n",
    "- Finally, measure all the qubits. Simulate the quantum circuit using Qiskit. Can you interpret the results?\n"
   ]
  },
  {
   "cell_type": "code",
   "execution_count": null,
   "metadata": {},
   "outputs": [],
   "source": []
  },
  {
   "cell_type": "code",
   "execution_count": null,
   "metadata": {},
   "outputs": [],
   "source": []
  },
  {
   "cell_type": "markdown",
   "metadata": {},
   "source": [
    "### Entaglement\n",
    "\n",
    "Entanglement is a fundamental concept in quantum mechanics. It is a phenomenon where two or more qubits are correlated in such a way that the state of one qubit is coupled with the state of the other qubit. In other words, measuring one qubit will instantly determine the state of the other qubit, regardless of the distance between them. This is a simple definition of entanglement. However, a more precise definition of entanglement will come later in the upcoming tutorials."
   ]
  },
  {
   "cell_type": "markdown",
   "metadata": {},
   "source": [
    "We can create entanglement using quantum gates and a minimum of two qubits. The most common gate used to create entanglement is the CNOT gate. The CNOT gate is a two-qubit gate that flips the target qubit if the control qubit is in the state $|1\\rangle$. The CNOT gate is also known as the controlled-X gate.\n",
    "\n",
    "To create entanglement, we can apply the CNOT gate to two qubits. The control qubit will be the first qubit, and the target qubit will be the second qubit. We can then measure the qubits to see if they are entangled."
   ]
  },
  {
   "cell_type": "markdown",
   "metadata": {},
   "source": [
    "Let's create a quantum circuit with two qubits, apply a Hadamard gate to the first qubit, and then apply the CNOT gate to the qubits in which the first qubit is the control qubit and the second qubit is the target qubit. Finally, we will measure the qubits and simulate the quantum circuit using Qiskit.\n",
    "\n",
    "You can use the following code:\n",
    "```python\n",
    "# Create a quantum register with 2 qubits\n",
    "q = QuantumRegister(2)\n",
    "\n",
    "# Create a classical register with 1 bits\n",
    "c = ClassicalRegister(1)\n",
    "\n",
    "# Create a quantum circuit\n",
    "qc = QuantumCircuit(q, c)\n",
    "\n",
    "# Apply the Hadamard gate to the first qubit\n",
    "qc.h(q[0])\n",
    "\n",
    "# Apply the CNOT gate to the qubits\n",
    "qc.cx(q[0], q[1])\n",
    "\n",
    "# Measure the qubit qubit\n",
    "qc.measureall()\n",
    "\n",
    "# Draw the circuit\n",
    "qc.draw()\n",
    "```\n",
    "\n"
   ]
  },
  {
   "cell_type": "markdown",
   "metadata": {},
   "source": [
    "Question: What happens when you run the code? Can you interpret the results? Can you tell us about the quantum state of the qubits after applying the Hadamard gate and the CNOT gate?"
   ]
  },
  {
   "cell_type": "markdown",
   "metadata": {},
   "source": [
    "Question: Now, apply add X gate to the second qubit and keep applying Hadaamard gate to the first qubit and the CNOT gate to the qubits as in the previous question. Perform the measurements. What do you think the results will be? Can you interpret the results?"
   ]
  },
  {
   "cell_type": "code",
   "execution_count": null,
   "metadata": {},
   "outputs": [],
   "source": []
  },
  {
   "cell_type": "markdown",
   "metadata": {},
   "source": [
    "For more information, you can use qiskit's documentation.\n",
    "\n",
    "Circuit construction:\n",
    "https://docs.quantum.ibm.com/build/circuit-construction"
   ]
  },
  {
   "cell_type": "markdown",
   "metadata": {},
   "source": [
    "#  Intro to Quantum Computing with Qiskit \n",
    "### Tutorial 1: Basics of Quantum Circuits\n",
    "\n",
    "|||\n",
    "|-|-|\n",
    "|**Author:** |Taha Selim|\n",
    "|**Date:** |April 12th, 2024|\n",
    "|**Tutrial 1:** |**1.00**<br/>*Basics of Quantum Circuits*|\n",
    "|**License:** |MIT License / Taha Selim|\n",
    "|**Qiskit:** |0.34.0|\n",
    "|**Contact:** | t.i.m.m.selim2@hva.nl\n",
    "\n",
    "Follow us on Discord channel: https://discord.gg/tY6KqeQY"
   ]
  }
 ],
 "metadata": {
  "kernelspec": {
   "display_name": "Python 3",
   "language": "python",
   "name": "python3"
  },
  "language_info": {
   "codemirror_mode": {
    "name": "ipython",
    "version": 3
   },
   "file_extension": ".py",
   "mimetype": "text/x-python",
   "name": "python",
   "nbconvert_exporter": "python",
   "pygments_lexer": "ipython3",
   "version": "3.9.12"
  }
 },
 "nbformat": 4,
 "nbformat_minor": 2
}
