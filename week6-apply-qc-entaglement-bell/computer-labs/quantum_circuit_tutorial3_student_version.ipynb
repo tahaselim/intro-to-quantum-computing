{
 "cells": [
  {
   "cell_type": "markdown",
   "metadata": {},
   "source": [
    "#  Intro to Quantum Computing with Qiskit \n",
    "### Tutorial 3 \n",
    "|||\n",
    "|-|-|\n",
    "|**Author:** |Taha Selim|\n",
    "|**Date:** |April 26th, 2024|\n",
    "|**Tutrial 2:** |**Version 0** <br/>*Basics of Quantum Circuits and quantum algorithms*|\n",
    "|**License:** |MIT License / Taha Selim|\n",
    "|**Qiskit:** |1.0|\n",
    "|**Contact:** | t.i.m.m.selim2@hva.nl\n"
   ]
  },
  {
   "cell_type": "markdown",
   "metadata": {},
   "source": [
    "In this tutorial, we will continue working with quantum circuits and quantum algorithms. We will learn how to create a quantum circuit that can solve a simple problem. We will also learn how to run the circuit on a quantum simulator  and analyze the results.\n",
    "\n",
    "Let's get started!"
   ]
  },
  {
   "cell_type": "markdown",
   "metadata": {},
   "source": [
    "### **Part 1**\n"
   ]
  },
  {
   "cell_type": "markdown",
   "metadata": {},
   "source": [
    "Before we start,  let's refresh our knowledge in python. \n",
    "\n",
    "Let's start by importing the necessary libraries and setting up the environment."
   ]
  },
  {
   "cell_type": "code",
   "execution_count": null,
   "metadata": {},
   "outputs": [],
   "source": [
    "# Import numpy \n",
    "import numpy as np\n",
    "import matplotlib.pyplot as plt\n",
    "%matplotlib inline"
   ]
  },
  {
   "cell_type": "markdown",
   "metadata": {},
   "source": [
    "#### **Task 1**: \n",
    "\n",
    " Create a 1D numpy array of numbers from 0 to 9"
   ]
  },
  {
   "cell_type": "code",
   "execution_count": null,
   "metadata": {},
   "outputs": [],
   "source": [
    "# Create a 1D numpy array of numbers from 0 to 9\n",
    "x = np.arange(10)\n",
    "\n",
    "# print it \n",
    "print(x)"
   ]
  },
  {
   "cell_type": "markdown",
   "metadata": {},
   "source": [
    "#### **Task 2**: \n",
    "\n",
    "In this task, we will refresh our knowledge about the language of qiskit. \n",
    "\n",
    "First, we will need to import the necessary libraries. \n",
    "\n",
    "Then, we will create a quantum circuit with 3 qubits and 3 classical bits. \n",
    "\n",
    "Finally, we will draw the circuit."
   ]
  },
  {
   "cell_type": "markdown",
   "metadata": {},
   "source": [
    "Import the necessary libraries from qiskit.\n"
   ]
  },
  {
   "cell_type": "code",
   "execution_count": null,
   "metadata": {},
   "outputs": [],
   "source": [
    "# Import qiskit libraries\n",
    "from qiskit import QuantumCircuit, ClassicalRegister, QuantumRegister\n",
    "from qiskit.circuit import Parameter"
   ]
  },
  {
   "cell_type": "markdown",
   "metadata": {},
   "source": [
    "\n",
    "Create a quantum circuit with 3 qubits and 3 classical bits.\n",
    "\n",
    "In the solution you will use the following code:\n",
    "\n",
    "```python\n",
    "# create a quantum register of 3 qubits\n",
    "qreg = QuantumRegister(3)\n",
    "\n",
    "# create a classical register of 3 bits\n",
    "creg = ClassicalRegister(3)\n",
    "\n",
    "# create a quantum circuit\n",
    "circuit = QuantumCircuit(qreg, creg)\n",
    "```\n",
    "\n",
    "Be careful of the scoping rules in Jupyter notebooks. If you run the code in different cells, \n",
    "you may get an error, or you might accumulate the qubits and bits in the circuit."
   ]
  },
  {
   "cell_type": "code",
   "execution_count": null,
   "metadata": {},
   "outputs": [],
   "source": [
    "# Add your answer below\n",
    "#################################################\n",
    "# Create a quantum register of 3 qubits\n",
    "\n",
    "# create a classical register of 3 bits\n",
    "\n",
    "# create a quantum circuit\n",
    "\n",
    "# Draw the circuit\n",
    "#################################################\n",
    "\n",
    "\n"
   ]
  },
  {
   "cell_type": "markdown",
   "metadata": {},
   "source": [
    "Now, apply hadamard gate to the first qubit and draw the circuit. Be careful of the scoping rules in Jupyter notebooks. If you run the code in different cells, you may get an error, or you might accumulate the qubits and bits in the circuit. So, it is better to copy the code in which you have created the circuit and run it in the same cell.\n",
    "\n",
    "In the solution you will use the following code:\n",
    "\n",
    "```python\n",
    "# apply hadamard gate to the first qubit\n",
    "qc.h(qreg[0])\n",
    "```"
   ]
  },
  {
   "cell_type": "code",
   "execution_count": null,
   "metadata": {},
   "outputs": [],
   "source": [
    "# Add your answer below\n",
    "#################################################\n",
    "\n",
    "# Create a quantum register of 3 qubits\n",
    "\n",
    "# create a classical register of 3 bits\n",
    "\n",
    "# create a quantum circuit\n",
    "\n",
    "# apply hadamard gate to the first qubit\n",
    "\n",
    "# draw the circuit\n",
    "\n",
    "#################################################\n",
    "\n"
   ]
  },
  {
   "cell_type": "markdown",
   "metadata": {},
   "source": [
    "What does a Hadamard gate do to the qubit?"
   ]
  },
  {
   "cell_type": "markdown",
   "metadata": {},
   "source": [
    "Answer: \n",
    "\n",
    "\n",
    "-- end of answer -----"
   ]
  },
  {
   "cell_type": "markdown",
   "metadata": {},
   "source": [
    "Measure the first quantum bit and store the result in the first classical bit.\n",
    "\n",
    "In the solution you will use the following code:\n",
    "\n",
    "```python\n",
    "# measure the first quantum bit and store the result in the first classical bit\n",
    "qc.measure(qreg[0], creg[0])\n",
    "```\n"
   ]
  },
  {
   "cell_type": "code",
   "execution_count": null,
   "metadata": {},
   "outputs": [],
   "source": [
    "# Add your answer below\n",
    "#################################################\n",
    "\n",
    "\n",
    "# Create a quantum register of 3 qubits\n",
    "\n",
    "# create a classical register of 3 bits\n",
    "\n",
    "# create a quantum circuit\n",
    "\n",
    "# apply hadamard gate to the first qubit\n",
    "\n",
    "# Measure the first qubit \n",
    "\n",
    "# draw the circuit\n",
    "\n",
    "#################################################"
   ]
  },
  {
   "cell_type": "markdown",
   "metadata": {},
   "source": [
    "What would be the output of the circuit when we run it on a quantum simulator? Think conceptually and write your answer in the cell below."
   ]
  },
  {
   "cell_type": "markdown",
   "metadata": {},
   "source": [
    "Answer: \n",
    "\n",
    "\n",
    "\n",
    "\n",
    "\n",
    "\n",
    "\n",
    "\n",
    "-- end of the answer --"
   ]
  },
  {
   "cell_type": "markdown",
   "metadata": {},
   "source": [
    "================================================================================================="
   ]
  },
  {
   "cell_type": "markdown",
   "metadata": {},
   "source": [
    "#### **Task 3**:"
   ]
  },
  {
   "cell_type": "markdown",
   "metadata": {},
   "source": [
    "Create the same quantum circuit of three qubits and three classical bits. Apply the Hadamard gate to the first qubit, apply the X gate to the second qubit, and Z gate to the third qubit.\n",
    "\n",
    "In the solution you will use the following code:\n",
    "\n",
    "```python\n",
    "\n",
    "# to apply the X gate to the second qubit\n",
    "qc.x(qreg[1])\n",
    "\n",
    "# to apply the Z gate to the third qubit\n",
    "qc.z(qreg[2])\n",
    "```"
   ]
  },
  {
   "cell_type": "code",
   "execution_count": null,
   "metadata": {},
   "outputs": [],
   "source": [
    "# Write your code below\n",
    "#################################################\n",
    "\n",
    "# Create a quantum register of 3 qubits\n",
    "\n",
    "# create a classical register of 3 bits\n",
    "\n",
    "# create a quantum circuit\n",
    "\n",
    "# apply hadamard gate to the first qubit\n",
    "\n",
    "# Apply X gate to the second qubit\n",
    "\n",
    "# Apply Z gate to the third qubit\n",
    "\n",
    "# draw the circuit\n",
    "\n",
    "#################################################"
   ]
  },
  {
   "cell_type": "markdown",
   "metadata": {},
   "source": [
    "What does the X gate do to the qubit?"
   ]
  },
  {
   "cell_type": "markdown",
   "metadata": {},
   "source": [
    "Answer: \n",
    "\n",
    "\n",
    "-- end of answer -----"
   ]
  },
  {
   "cell_type": "markdown",
   "metadata": {},
   "source": [
    "What does the Z gate do to the qubit?"
   ]
  },
  {
   "cell_type": "markdown",
   "metadata": {},
   "source": [
    "Answer:\n",
    "\n",
    "\n",
    "-- end of answer -----"
   ]
  },
  {
   "cell_type": "markdown",
   "metadata": {},
   "source": [
    "The above quantum gates are called single-qubit gates. They are applied to a single qubit. We can see the action of each gate on the qubit by measuring the qubit after applying the gate. Also, we can see it by visualizing the state of the qubit on the Bloch sphere.\n",
    "\n",
    "For that, we will need to import the necessary libraries from qiskit.\n",
    "\n"
   ]
  },
  {
   "cell_type": "code",
   "execution_count": null,
   "metadata": {},
   "outputs": [],
   "source": [
    "from qiskit.quantum_info import partial_trace, Statevector\n",
    "from qiskit.visualization import plot_bloch_multivector"
   ]
  },
  {
   "cell_type": "markdown",
   "metadata": {},
   "source": [
    "\n",
    "Now, let's visualize the states of the three qubits:\n",
    "-  after applying the Hadamard gate to the first qubit,\n",
    "-  after applying the X gate to the second qubit, and\n",
    "-  after applying the Z gate to the third qubit.\n",
    "\n",
    "In the solution you will use the following code:\n",
    "\n",
    "```python\n",
    "state = Statevector.from_instruction(qc)\n",
    "plot_bloch_multivector(state)\n",
    "```"
   ]
  },
  {
   "cell_type": "code",
   "execution_count": null,
   "metadata": {},
   "outputs": [],
   "source": [
    "# write your code here\n",
    "#################################################\n",
    "\n",
    "\n",
    "#################################################"
   ]
  },
  {
   "cell_type": "markdown",
   "metadata": {},
   "source": [
    "From the visualization, what is the action of the above gates on the qubits?\n",
    "\n",
    "Discuss with your teacher or classmates the results you have obtained. "
   ]
  },
  {
   "cell_type": "markdown",
   "metadata": {},
   "source": [
    "Let's now perform the measurements and see the results.\n",
    "\n",
    "Before we start, we have to import the necessary libraries from qiskit."
   ]
  },
  {
   "cell_type": "code",
   "execution_count": null,
   "metadata": {},
   "outputs": [],
   "source": [
    "# First, import the necessary libraries\n",
    "from qiskit import QuantumCircuit, transpile\n",
    "from qiskit.providers.basic_provider import BasicSimulator\n",
    "from qiskit.visualization import plot_histogram\n"
   ]
  },
  {
   "cell_type": "markdown",
   "metadata": {},
   "source": [
    "Before running the simulator, what would be the output of the circuit when we run it on a quantum simulator? Think conceptually and write your answer in the cell below."
   ]
  },
  {
   "cell_type": "markdown",
   "metadata": {},
   "source": [
    "Answer: \n",
    "\n",
    "\n",
    "-- end of answer -----"
   ]
  },
  {
   "cell_type": "markdown",
   "metadata": {},
   "source": [
    "Let's perform the measurements and see the results. We will simulate the circuit 1024 times using one of the builtin simulators in qiskit.\n",
    "\n",
    "\n",
    "In the solution you will use the following code:\n",
    "\n",
    "```python\n",
    "\n",
    "\n",
    "# Specify the backend (the simulator)\n",
    "simulator = BasicSimulator()\n",
    "\n",
    "# Transpile the circuit for the simulator\n",
    "compiled_circuit = transpile(circuit, simulator)\n",
    "\n",
    "# Run the compiled circuit\n",
    "job = simulator.run(compiled_circuit)\n",
    "\n",
    "# Get the result\n",
    "result = job.result()\n",
    "\n",
    "# Print the counts\n",
    "print(result.get_counts())\n",
    "\n",
    "# Plot the histogram\n",
    "plot_histogram(result.get_counts())\n",
    "\n",
    "```"
   ]
  },
  {
   "cell_type": "code",
   "execution_count": null,
   "metadata": {},
   "outputs": [],
   "source": [
    "# Add your code below\n",
    "#################################################\n",
    "\n",
    "# Create a quantum register of 3 qubits\n",
    "\n",
    "# create a classical register of 3 bits\n",
    "\n",
    "# create a quantum circuit\n",
    "\n",
    "# apply hadamard gate to the first qubit\n",
    "\n",
    "# Apply X gate to the second qubit\n",
    "\n",
    "# Apply Z gate to the third qubit\n",
    "\n",
    "# draw the circuit\n",
    "#qc.draw(output='mpl')\n",
    "\n",
    "# measure the qubit\n",
    "\n",
    "# Specify the backend (the simulator)\n",
    "\n",
    "# Transpile the circuit for the simulator\n",
    "\n",
    "# Run the compiled circuit\n",
    "\n",
    "# Get the result\n",
    "\n",
    "# Print the counts\n",
    "\n",
    "# Plot the histogram\n",
    "\n",
    "#################################################\n"
   ]
  },
  {
   "cell_type": "markdown",
   "metadata": {},
   "source": [
    "Let's now move to the next part of the tutorial."
   ]
  },
  {
   "cell_type": "markdown",
   "metadata": {},
   "source": [
    "=================================================================================================="
   ]
  },
  {
   "cell_type": "markdown",
   "metadata": {},
   "source": [
    "### **Part 2**"
   ]
  },
  {
   "cell_type": "markdown",
   "metadata": {},
   "source": [
    "In this part, we will explore the two-qubit gates. Examples of the two-qubit gates are the `CNOT` gate and the `SWAP` gate. \n",
    "\n",
    "`CNOT` gate is a controlled-X gate. It flips the target qubit if the control qubit is in the state |1>.\n",
    "\n",
    "`SWAP` gate swaps the states of two qubits. \n",
    "\n",
    "In the following tasks we will explore together the action of these gates on the qubits."
   ]
  },
  {
   "cell_type": "markdown",
   "metadata": {},
   "source": [
    "#### **Task 4**:\n",
    "\n",
    "Construct a quantum circuit with two qubits and two classical bits.\n",
    "\n",
    "Apply the Hadamard gate to the first qubit and `CNOT` gate to the second qubit controlled by the first qubit.\n",
    "\n",
    "You can use the following code to apply the `CNOT` gate:\n",
    "\n",
    "```python\n",
    "# apply the CNOT gate to the second qubit controlled by the first qubit\n",
    "qc.cx(qreg[0], qreg[1])\n",
    "```\n",
    "\n",
    "Then, draw the circuit."
   ]
  },
  {
   "cell_type": "code",
   "execution_count": null,
   "metadata": {},
   "outputs": [],
   "source": [
    "# write your code here\n",
    "#################################################\n",
    "\n",
    "# Create a quantum register of 2 qubits\n",
    "\n",
    "# create a classical register of 2 bits\n",
    "\n",
    "# create a quantum circuit\n",
    "\n",
    "# apply hadamard gate to the first qubit\n",
    "\n",
    "# Apply CNOT gate to the first and second qubit, where the \n",
    "# first qubit is the control qubit and the second qubit is the target qubit\n",
    "\n",
    "# draw the circuit\n",
    "\n",
    "#################################################"
   ]
  },
  {
   "cell_type": "markdown",
   "metadata": {},
   "source": [
    "We can understand the action of the `CNOT` gate as follows. The Hadamard gate creates a superposition of the states |0> and |1> in the first qubit. The `CNOT` gate flips the state of the second qubit if the first qubit is in the state |1>. Hence, we have 50% probability of measuring the first qubit in state |0> and the second qubit in state |0>, and 50% probability of measuring the first qubit in state |1> and the second qubit in state |1>.\n",
    "\n",
    "Let's now summarize the above explanation in the table below. It is called the truth table of the `CNOT` gate. Complete the table by filling the output column of measuring the second qubit.\n",
    "\n",
    "|First qubit | Second qubit | Output |\n",
    "|------------|--------------|--------|\n",
    "|0           | 0            |        |\n",
    "|0           | 1            |        |\n",
    "|1           | 0            |        |\n",
    "|1           | 1            |        |\n",
    "\n",
    "\n",
    "\n",
    "Discuss with your teacher or classmates the results you have obtained.\n"
   ]
  },
  {
   "cell_type": "markdown",
   "metadata": {},
   "source": [
    "Answer: \n",
    "\n",
    "\n",
    "-- end of answer -----"
   ]
  },
  {
   "cell_type": "markdown",
   "metadata": {},
   "source": [
    "#### **Task 5**:\n",
    "\n",
    "To understand the action of the `SWAP` gate, we will construct a quantum circuit with two qubits and two classical bits.\n",
    "\n",
    "Apply the Hadamard gate to the first qubit and the `SWAP` gate to the two qubits.\n",
    "\n",
    "You can use the following code to apply the `SWAP` gate:\n",
    "\n",
    "```python\n",
    "# apply the SWAP gate to the two qubits\n",
    "qc.swap(qreg[0], qreg[1])\n",
    "```\n",
    "\n",
    "Then, draw the circuit.\n"
   ]
  },
  {
   "cell_type": "code",
   "execution_count": null,
   "metadata": {},
   "outputs": [],
   "source": [
    "# Write your code here \n",
    "#################################################\n",
    "\n",
    "# Apply H gate to the first qubit\n",
    "\n",
    "# Apply SWAP gate\n",
    "\n",
    "# Draw the circuit\n",
    "\n",
    "#################################################"
   ]
  },
  {
   "cell_type": "markdown",
   "metadata": {},
   "source": [
    "In other words, the `SWAP` gate swaps the states of the two qubits. The Hadamard gate creates a superposition of the states |0> and |1> in the first qubit. Hence, we have 50% probability of measuring the first qubit in state |0> and the second qubit in state |1>, and 50% probability of measuring the first qubit in state |1> and the second qubit in state |0>.\n",
    "\n",
    "To summarize the above explanation, complete the table below by filling the output column of measuring the second qubit:\n",
    "\n",
    "|First qubit | Second qubit | Output |\n",
    "|------------|--------------|--------|\n",
    "|0           | 0            |        |\n",
    "|0           | 1            |        |\n",
    "|1           | 0            |        |\n",
    "|1           | 1            |        |\n"
   ]
  },
  {
   "cell_type": "markdown",
   "metadata": {},
   "source": [
    "Answer: \n",
    "\n",
    "\n",
    "The solution is \n",
    "\n",
    "\n",
    "-- end of answer -----\n",
    "\n",
    "=================================================================================================="
   ]
  },
  {
   "cell_type": "markdown",
   "metadata": {},
   "source": [
    "#### **Task 6**\n",
    "\n",
    "Let's see what happens when we apply the `CNOT` gate to the second qubit controlled by the first qubit, and perform the measurements. \n",
    "\n",
    "Create a quantum register of two qubits and a classical register two classical bits. Apply the Hadamard gate to the first qubit and the `CNOT` gate to the second qubit controlled by the first qubit. Then, draw the circuit."
   ]
  },
  {
   "cell_type": "code",
   "execution_count": null,
   "metadata": {},
   "outputs": [],
   "source": [
    "# Write your code here\n",
    "#################################################\n",
    "# Create a quantum register of two qubits\n",
    "\n",
    "\n",
    "# Apply H gate to the first qubit\n",
    "\n",
    "# Apply CNOT gate\n",
    "\n",
    "# Draw the circuit\n",
    "\n",
    "#################################################\n"
   ]
  },
  {
   "cell_type": "markdown",
   "metadata": {},
   "source": [
    "Now, let's measure the first qubit and use the simulator to see the results. You can use the following code to perform the measurements and see the results:\n",
    "\n",
    "```python\n",
    "# measure the first quantum bit and store the result in the first classical bit\n",
    "\n",
    "qc.measure(qreg[0], creg[0])\n",
    "\n",
    "# Specify the backend (the simulator)\n",
    "simulator = BasicSimulator()\n",
    "\n",
    "# Transpile the circuit for the simulator\n",
    "compiled_circuit = transpile(qc, simulator)\n",
    "\n",
    "# Run the compiled circuit\n",
    "job = simulator.run(compiled_circuit)\n",
    "#job = Sampler().run(qc, shots = 1024)\n",
    "\n",
    "# Get the result\n",
    "result = job.result()\n",
    "\n",
    "# Print the counts\n",
    "print(result.get_counts())\n",
    "```\n",
    "\n",
    "What would be the output of the circuit when we run it on a quantum simulator? Think conceptually and write your answer in the cell below."
   ]
  },
  {
   "cell_type": "markdown",
   "metadata": {},
   "source": [
    "Answer: \n",
    "\n",
    "\n",
    "-- end of answer -----"
   ]
  },
  {
   "cell_type": "markdown",
   "metadata": {},
   "source": [
    "Write your code in the cell below."
   ]
  },
  {
   "cell_type": "code",
   "execution_count": null,
   "metadata": {},
   "outputs": [],
   "source": [
    "# Write your code here\n",
    "#################################################\n",
    "# Create a quantum register of two qubits\n",
    "qreg = QuantumRegister(2)\n",
    "creg = ClassicalRegister(2)\n",
    "qc = QuantumCircuit(qreg, creg)\n",
    "\n",
    "# Apply H gate to the first qubit\n",
    "qc.h(qreg[0])\n",
    "\n",
    "# Apply CNOT gate\n",
    "qc.cx(qreg[0], qreg[1])\n",
    "\n",
    "\n",
    "qc.measure(qreg[0], creg[0])\n",
    "\n",
    "# Specify the backend (the simulator)\n",
    "simulator = BasicSimulator()\n",
    "\n",
    "# Transpile the circuit for the simulator\n",
    "compiled_circuit = transpile(qc, simulator)\n",
    "\n",
    "# Run the compiled circuit\n",
    "job = simulator.run(compiled_circuit)\n",
    "#job = Sampler().run(qc, shots = 1024)\n",
    "\n",
    "# Get the result\n",
    "result = job.result()\n",
    "\n",
    "# Print the counts\n",
    "print(result.get_counts())\n",
    "\n",
    "\n",
    "# Draw the circuit\n",
    "qc.draw(output='mpl')\n",
    "\n",
    "\n",
    "# Plot the histogram\n",
    "plot_histogram(result.get_counts())\n",
    "\n",
    "\n",
    "#################################################\n"
   ]
  },
  {
   "cell_type": "markdown",
   "metadata": {},
   "source": [
    "What do you observe from the results? \n",
    "\n",
    "Does the output match your expectations?\n",
    "\n",
    "Discuss with your teacher or classmates."
   ]
  },
  {
   "cell_type": "markdown",
   "metadata": {},
   "source": [
    "#### **Task 7**\n",
    "\n",
    "Let's do the same and measure the second qubit instead. Create the same quantum circuit of two qubits and two classical bits, apply the Hadamard gate to the first qubit, and the `CNOT` gate to the second qubit controlled by the first qubit. Perform the measurements on the second qubit and run the circuit on the simulator. You should be able to use the codes that you have developed above to help you in this task."
   ]
  },
  {
   "cell_type": "code",
   "execution_count": null,
   "metadata": {},
   "outputs": [],
   "source": [
    "# Write your code here\n",
    "#################################################\n",
    "\n",
    "# Create a quantum register of two qubits\n",
    "\n",
    "# Apply H gate to the first qubit\n",
    "\n",
    "# Apply CNOT gate\n",
    "\n",
    "# Measure all qubits\n",
    "\n",
    "# Specify the backend (the simulator)\n",
    "\n",
    "# Transpile the circuit for the simulator\n",
    "\n",
    "# Run the compiled circuit\n",
    "\n",
    "# Get the result\n",
    "\n",
    "# Print the counts\n",
    "\n",
    "# Plot the histogram\n"
   ]
  },
  {
   "cell_type": "markdown",
   "metadata": {},
   "source": [
    "Does the output match your expectations? Discuss with your teacher or classmates."
   ]
  },
  {
   "cell_type": "markdown",
   "metadata": {},
   "source": [
    "We notice now, that the `CNOT` gate is a conditional gate. It flips the target qubit if the control qubit is in the state |1>."
   ]
  },
  {
   "cell_type": "markdown",
   "metadata": {},
   "source": [
    "### **Part 3**"
   ]
  },
  {
   "cell_type": "markdown",
   "metadata": {},
   "source": [
    "Also, we have states like |00> and |01> and |00> and |10>. These called the basis of the qubit space or more percisely the computational basis of the qubit Hilbert space. \n",
    "\n",
    "We can represent the qubit space as a vector space with basis vectors:\n",
    "\n",
    "|00>, \n",
    "|01>,\n",
    "|10>,\n",
    "|11>.\n",
    "\n",
    "Since we have two qubits: each qubit has the possibility of being in the state |0> or |1>. Hence, we have 4 possible states: |00>, |01>, |10>, and |11>. These are the basis of the qubit space. Be careful now that the basis are arranged in a convention called the big-endian convention. This means that the first qubit is the most significant bit and the second qubit is the least significant bit. In other words we start counting qubits from the left to the right. This is important to remember when we are working with qubits since qiskit is using little-endian convention; the counting start from the right to the left."
   ]
  },
  {
   "cell_type": "markdown",
   "metadata": {},
   "source": [
    "**Bell State**\n",
    "\n",
    "Typically since the qubits are initialized in the state |0>, the state of the qubits is |00>. When apply a hadmard gate on the first qubit we put the first qubit in a superposition of the states |0> and |1>. \n",
    "Hence, the state of the qubits is now \n",
    "\n",
    "$$|q_1 q_2 > = \\frac{1}{\\sqrt{2}}[|00> + |10>]. $$\n",
    "\n",
    "We notice that the second qubit stays zero or in the |0> state. This is because the Hadamard gate is applied to the first qubit only. \n",
    "\n",
    "Let's see what happens when we apply the Hadamard gate to the first qubit and the `CNOT` gate to the two qubits. The `CNOT` gate flips the state of the second qubit if the first qubit is in the state |1>. Then, the statevector of the qubits is\n",
    "\n",
    "$$ |qq> = |00> + |11>. $$\n",
    "\n",
    "\n",
    "Here, we see an interesting state, and Entangled state. This is called the Bell state. It is a superposition of the states |00> and |11>. It is a very important state in quantum computing, and it is used in many quantum algorithms and quantum communication protocols.\n",
    "\n",
    "\n",
    "\n",
    "\n",
    "\n"
   ]
  },
  {
   "cell_type": "markdown",
   "metadata": {},
   "source": [
    "#### **Task 8**\n",
    "\n",
    "What will be the result of measuring the second qubit if the first is 0?\n",
    "\n",
    "Answer:\n",
    "\n",
    "\n",
    "-- end of answer -----\n",
    "\n",
    "What will be the result of measuring the second qubit if the first is 1?\n",
    "\n",
    "Answer:\n",
    "\n",
    "\n",
    "-- end of answer -----\n",
    "\n",
    "Discuss with your teacher or classmates the results you have obtained."
   ]
  },
  {
   "cell_type": "markdown",
   "metadata": {},
   "source": [
    "Create a quantum circuit with two qubits and two classical bits. Apply the Hadamard gate to the first qubit and the `CNOT` gate to the two qubits. Then measure each qubit simultaneously, run the circuit on the simulator, and see the results. Leverage the code that you have developed in the previous tasks.\n",
    "\n",
    "You might use the following syntax to measure both qubits simultaneously:\n",
    "\n",
    "```python\n",
    "\n",
    "qc.measure(qreg, creg)\n",
    "\n",
    "```"
   ]
  },
  {
   "cell_type": "code",
   "execution_count": null,
   "metadata": {},
   "outputs": [],
   "source": [
    "# Write your code here\n",
    "#################################################\n",
    "\n",
    "# Create a quantum register of 2 qubits\n",
    "\n",
    "# create a classical register of 2 bits\n",
    "\n",
    "# create a quantum circuit\n",
    "\n",
    "# apply hadamard gate to the first qubit\n",
    "\n",
    "# Apply CNOT gate to the first and second qubit, where the \n",
    "# first qubit is the control qubit and the second qubit is the target qubit\n",
    "\n",
    "# measure the qubits\n",
    "\n",
    "# Specify the backend (the simulator)\n",
    "\n",
    "# Transpile the circuit for the simulator\n",
    "\n",
    "# Run the compiled circuit\n",
    "\n",
    "# Get the result\n",
    "\n",
    "# Print the counts\n",
    "\n",
    "# Plot the histogram\n",
    "\n",
    "#################################################"
   ]
  },
  {
   "cell_type": "markdown",
   "metadata": {},
   "source": [
    "We can see that the `CNOT` gate creates an entangled state between the two qubits. This is a very important concept in quantum computing."
   ]
  },
  {
   "cell_type": "markdown",
   "metadata": {},
   "source": [
    "#### **Task 9**\n",
    "\n",
    "We can achieve the entaglement by another group of gates. \n",
    "\n",
    "Create a quantum circuit of two qubits and two classical bits, apply the Puali-X gate to the second qubit, followed by a Hadamard gate on the first qubit, and then the `CNOT` gate to the two qubits. Then, measure all, run the circuit on the simulator, and see the results."
   ]
  },
  {
   "cell_type": "code",
   "execution_count": null,
   "metadata": {},
   "outputs": [],
   "source": [
    "# Write your code here\n",
    "#################################################\n",
    "\n",
    "# Create a quantum register of 2 qubits\n",
    "\n",
    "# create a classical register of 2 bits\n",
    "\n",
    "# create a quantum circuit\n",
    "\n",
    "# apply pauli-x gate to the seoncd qubit\n",
    "\n",
    "# apply hadamard gate to the first qubit\n",
    "\n",
    "# Apply CNOT gate to the first and second qubit, where the\n",
    "# first qubit is the control qubit and the second qubit is the target qubit\n",
    "\n",
    "# measure the qubits\n",
    "\n",
    "# Specify the backend (the simulator)\n",
    "\n",
    "# Transpile the circuit for the simulator\n",
    "\n",
    "# Run the compiled circuit\n",
    "\n",
    "# Get the result\n",
    "\n",
    "# Print the counts\n",
    "\n",
    "# Plot the histogram\n"
   ]
  },
  {
   "cell_type": "markdown",
   "metadata": {},
   "source": [
    "Let's write now the qubit vector space basis by using the following steps:\n",
    "\n",
    "1. Apply the Pauli-X gate to the second qubit. This gate flips the state of the qubit from |0> to |1> and vice versa. Hence, the state of the qubits is now |01>.\n",
    "\n",
    "2. Apply the Hadamard gate to the first qubit. This gate creates a superposition of the states |0> and |1> in the first qubit. Hence, the state of the qubits is now $|qq> = |01> + 10$"
   ]
  },
  {
   "cell_type": "markdown",
   "metadata": {},
   "source": [
    "##### **Entanglement is a very important concept in quantum computing. It is used in many quantum algorithms and quantum communication protocols**."
   ]
  },
  {
   "cell_type": "markdown",
   "metadata": {},
   "source": [
    "Now, we see Entaglement indicates high correlated measurements. If we measure the first qubit and find it in a particular state, the state of the second qubit is already known. "
   ]
  },
  {
   "cell_type": "markdown",
   "metadata": {},
   "source": [
    "For more information, you can use qiskit's documentation.\n",
    "\n",
    "Circuit construction:\n",
    "https://docs.quantum.ibm.com/build/circuit-construction"
   ]
  }
 ],
 "metadata": {
  "kernelspec": {
   "display_name": "Python 3 (ipykernel)",
   "language": "python",
   "name": "python3"
  },
  "language_info": {
   "codemirror_mode": {
    "name": "ipython",
    "version": 3
   },
   "file_extension": ".py",
   "mimetype": "text/x-python",
   "name": "python",
   "nbconvert_exporter": "python",
   "pygments_lexer": "ipython3",
   "version": "3.9.12"
  }
 },
 "nbformat": 4,
 "nbformat_minor": 2
}
