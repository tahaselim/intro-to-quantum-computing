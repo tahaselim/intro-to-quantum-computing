{
 "cells": [
  {
   "cell_type": "markdown",
   "metadata": {},
   "source": [
    "#  Intro to Quantum Computing with Qiskit \n",
    "### Tutorial 4 \n",
    "\n",
    "|||\n",
    "|-|-|\n",
    "|**Author:** | Bernardo Villalba Frias|\n",
    "|**Editor:** | Taha Selim|\n",
    "|**Date:** |May 5th, 2024|\n",
    "|**Tutrial 4:** |**Version 0** <br/>*Basics of Quantum Circuits*|\n",
    "|**Qiskit:** |1.0|\n",
    "|**Bernardo's email:** | b.r.villalba.frias@hva.nl\n",
    "|**Taha's email** | t.i.m.m.selim2@hva.nl\n"
   ]
  },
  {
   "cell_type": "markdown",
   "metadata": {},
   "source": [
    "This notebook is adapted from the brief introduction to the IBM Qiskit package covered in the Quantum Programming 1 lesson during the minor on Applied Quantum Computing. The IBM Qiskit framework offers a huge variety of very interesting functionalities to explore. Please refer to the [IBM Quantum Documentation](https://qiskit.org/documentation/).\n",
    "\n",
    "\n",
    "However, Qiskit is not the only quantum programming environment. There are several other options for you to explore, for instance: [Quantum Inspire](https://www.quantum-inspire.com/), [Cirq](https://quantumai.google/cirq), [Q#](https://quantum.microsoft.com/en-us/explore/concepts/qsharp), etc.. Moreover there are multiple software frameworks that offer extensions for quantum computing, for instance: [PennyLane](https://pennylane.ai/), [Yao](https://yaoquantum.org/), [OpenFermion](https://quantumai.google/openfermion), etc.\n",
    "\n",
    "This tutorial strengths the self-study skills of the students by providing a brief introduction to the basics of quantum circuits. The tutorial is divided into the following sections:\n",
    "\n",
    "1. **Introduction to Quantum Circuits**\n",
    "2. **Quantum Gates**\n",
    "3. **Quantum Circuits in Qiskit**\n",
    "4. **Exercise**\n"
   ]
  },
  {
   "cell_type": "markdown",
   "metadata": {},
   "source": [
    "Let's start by importing the necessary libraries."
   ]
  },
  {
   "cell_type": "code",
   "execution_count": null,
   "metadata": {},
   "outputs": [],
   "source": [
    "%matplotlib inline\n",
    "\n",
    "# Imports of the Qiskit basic functionalities\n",
    "from qiskit import QuantumCircuit, ClassicalRegister, QuantumRegister\n",
    "from qiskit.primitives import Sampler\n",
    "from qiskit.quantum_info import Statevector, random_statevector\n",
    "from qiskit.visualization import plot_distribution\n",
    "\n",
    "import numpy as np"
   ]
  },
  {
   "cell_type": "markdown",
   "metadata": {},
   "source": [
    "The following functions allow you to represent the quatum states into a notation that you will be more familiar with: `Dirac notation`. \n",
    "\n",
    "The `Dirac notation` is a standard notation used in quantum mechanics, composed of the following elements:\n",
    "\n",
    "- **Ket notation**: $| \\psi \\rangle$\n",
    "- **Bra notation**: $\\langle \\psi |$\n",
    "\n",
    "The `Dirac notation` is used to represent the quantum states in a more compact and readable way."
   ]
  },
  {
   "cell_type": "markdown",
   "metadata": {},
   "source": [
    "Run the following code to represent the quantum states in `Dirac notation`."
   ]
  },
  {
   "cell_type": "code",
   "execution_count": null,
   "metadata": {},
   "outputs": [],
   "source": [
    "# Function: state_to_dirac(quantum_state)\n",
    "#\n",
    "# \n",
    "# This function accepts an arbitrary state vector and prints it in its\n",
    "# corresponding Dirac notation.\n",
    "def state_to_dirac(state):\n",
    "\n",
    "    # Convert the statevector to dictionary form.\n",
    "    state_to_dict = state.to_dict()\n",
    "\n",
    "    return ' '.join('{1:+.4f}|{0}>'.format(key, value)\n",
    "                      for key, value in state_to_dict.items())\n",
    "\n",
    "\n",
    "# Function: obtain_vector(quantum_circuit)\n",
    "#\n",
    "# \n",
    "# This function accepts an arbitrary circuit, performs its state vector\n",
    "# simulation and returns the resulting vector state.\n",
    "def obtain_vector(qc):\n",
    "\n",
    "    # Execute the state vector simulation\n",
    "    resulting_vector = Statevector(qc)\n",
    "\n",
    "    # Convert the resulting state vector in its Dirac notation\n",
    "    dirac_vector = state_to_dirac(resulting_vector)\n",
    "\n",
    "    return resulting_vector, dirac_vector\n",
    "\n",
    "\n",
    "# Function: simulate_circuit(quantum_circuit, number_shots)\n",
    "#\n",
    "# \n",
    "# This function accepts an arbitrary circuit, performs a multi-shot\n",
    "# simulation and returns the results.\n",
    "def simulate_circuit(qc, trials = 100000):\n",
    "\n",
    "    # Execute the simulation for the given number of shots\n",
    "    job = Sampler().run(qc, shots = trials)\n",
    "\n",
    "    # Collect the results from the job\n",
    "    result = job.result()\n",
    "\n",
    "    # Obtain the counts from the results\n",
    "    statistics = result.quasi_dists[0].binary_probabilities()\n",
    "\n",
    "    return result, statistics\n",
    "\n"
   ]
  },
  {
   "cell_type": "markdown",
   "metadata": {},
   "source": [
    "### Example 1: Representing the quantum states in Dirac notation\n",
    "\n",
    "In this example, we study a basic quantum circuits. The quantum circuit consists of a single qubit. The qubit is initialized in the state $|0\\rangle$ and then passed through a `Pauli-X` gate. The Pauli-X gate is a quantum gate that flips the state of the qubit. The state of the qubit after passing through the Pauli-X gate is $|1\\rangle$.\n",
    "\n",
    "![Example1](mid_way_src/example1.png)\n",
    "\n",
    "The basic template of a quantum program contains two parts:\n",
    "\n",
    "1. Create and design a circuit.\n",
    "2. Run the circuit.\n",
    "\n",
    "For the first point, we will need our first QuantumCircuit. We start by creating a very simple [QuantumCircuit](https://docs.quantum.ibm.com/api/qiskit/qiskit.circuit.QuantumCircuit#quantumcircuit) with 1 qubit and 1 output. Hence, we need a [QuantumRegister](https://docs.quantum.ibm.com/api/qiskit/qiskit.circuit.QuantumRegister#quantumregister). Additionally, we are going to measure such qubit; therefore we will also need a [ClassicalRegister](https://docs.quantum.ibm.com/api/qiskit/qiskit.circuit.ClassicalRegister#classicalregister).\n",
    "\n",
    "After creating the circuit, we will add the gates to be applied. In this example, that will be the [X gate](https://docs.quantum.ibm.com/api/qiskit/qiskit.circuit.QuantumCircuit#x). Moreover, you can [draw](https://docs.quantum.ibm.com/api/qiskit/qiskit.circuit.QuantumCircuit#draw) the circuit to see how it looks.\n",
    "\n",
    "Let's start by creating the circuit. Follow the instructions in the code cell below.\n"
   ]
  },
  {
   "cell_type": "code",
   "execution_count": null,
   "metadata": {},
   "outputs": [],
   "source": [
    "# Defining the quantum register with 1 qubit\n",
    "\n",
    "# Defining the classical register with 1 bit\n",
    "\n",
    "# Defining the quantum circuit\n",
    "\n",
    "# Apply the Pauli-X gate to the qubit\n",
    "\n",
    "# Draw the circuit"
   ]
  },
  {
   "cell_type": "markdown",
   "metadata": {},
   "source": [
    "### Example 2: Circuit Simulations\n",
    "\n",
    "In this example, we will simulate the quantum circuit using a simulator. The simulator is a classical computer program that simulates the quantum circuit and emulate the performance of a quantum computer. The simulator is used to test the quantum circuit before running it on a real quantum computer.\n",
    "\n",
    "\n",
    "A quantum state is described by a linear combination of the basis states. This linear combination is defined by the probability amplitudes. Additionally, when measuring a qubit, it collapses towards one of the basis states. In order to show this probabilistic process, it is necessary to perform a simulation of the quantum system. When running a sufficient amount of times, we will be able to observe and infer the probability amplitudes of the resulting vector state.\n",
    "\n",
    "Qiskit allows us to run simulations of our quantum circuits, to measure the results and to extract information from those results. In this basic notebook, we will mention:\n",
    "\n",
    "1. [Statevector](https://docs.quantum.ibm.com/api/qiskit/qiskit.quantum_info.Statevector#statevector)\n",
    "2. [Sampler](https://docs.quantum.ibm.com/api/qiskit/qiskit.primitives.Sampler)\n",
    "\n",
    "Each one of them is used for a specific purpose. In this example, we are going to use `Sampler` which allows you to execute multiple shots simulations. In order to perform this type of simulation, the circuit must include the [measure](https://docs.quantum.ibm.com/api/qiskit/qiskit.circuit.QuantumCircuit#measure). Then, you can use the [run](https://docs.quantum.ibm.com/api/qiskit/qiskit.primitives.Sampler#run) method to actually execute the simulation. The [result](https://docs.quantum.ibm.com/api/qiskit-ibm-runtime/qiskit_ibm_runtime.RuntimeJob#result) method will collect the results of your simulation, including the [quasi-probabilities](https://docs.quantum.ibm.com/api/qiskit/qiskit.primitives.SamplerResult#quasi_dists).\n",
    "\n",
    "Take a look at the previously defined function (`simulate_circuit`) to understand how it works.\n",
    "\n",
    "You will need to replace the variable `Your_Circuit` with name of the circuit you have created."
   ]
  },
  {
   "cell_type": "code",
   "execution_count": null,
   "metadata": {},
   "outputs": [],
   "source": [
    "# Map the quantum measurement to the classical bit\n",
    "\n",
    "# Execute the simulation for 10000 trials\n",
    "result, statistics = simulate_circuit(Your_Circuit, 10000)\n",
    "\n",
    "# Draw the quantum circuit\n"
   ]
  },
  {
   "cell_type": "markdown",
   "metadata": {},
   "source": [
    "In Qiskit, the qubits are always initialized to $\\ket{0}$. As you know, the `X gate` changes the state of the qubit; hence you could expect to obtain a $\\ket{1}$ state after the simulation. It is also possible to plot a histogram with the results, by using the [plot_distribution](https://docs.quantum.ibm.com/api/qiskit/qiskit.visualization.plot_distribution#qiskitvisualizationplot_distribution) command.\n",
    "\n",
    "Execute the code cell below to plot the results. The code should work fine if you have implemented everything correctly."
   ]
  },
  {
   "cell_type": "code",
   "execution_count": null,
   "metadata": {},
   "outputs": [],
   "source": [
    "# Plotting the histogram of the results\n",
    "print(\"Probabilities:\")\n",
    "plot_distribution(statistics, title = \"Probability Distribution\")"
   ]
  },
  {
   "cell_type": "markdown",
   "metadata": {},
   "source": [
    "Now, we could use these functions to implement more realistic, altought simple, circuits. However, before going into those circuits, let's try some more basic stuff.\n",
    "\n",
    "Imagine that you want to `see` a quantum state. It is possible to plot a graphical representation of a single quantum state in the so-called: Bloch sphere. The Qiskit function [plot_bloch_multivector](https://docs.quantum.ibm.com/api/qiskit/qiskit.visualization.plot_bloch_multivector#qiskitvisualizationplot_bloch_multivector), allows us to plot into the Bloch sphere."
   ]
  },
  {
   "cell_type": "markdown",
   "metadata": {},
   "source": [
    "## Example 3: Initialization and visualization\n",
    "\n",
    "As mentioned before, Qiskit initializes the qubit in the $\\ket{0}$ state. However, in some cases, could be useful to define a specific, or even random, initial state. The qubit is initialized by using the function: [initialize](https://docs.quantum.ibm.com/api/qiskit/qiskit.circuit.QuantumCircuit#initialize).\n",
    "\n",
    "This example uses the `Statevector` to execute a single shot of a Qiskit `QuantumCircuit` that have been previously initialized with a random state. Then, it prints the final quantum statevector of the simulation, and finally, it plots the resulting vector in the Bloch sphere.\n",
    "\n",
    "Take a look at the previously defined functions (`obtain_vector` and `state_to_dirac`) to understand how they work."
   ]
  },
  {
   "cell_type": "code",
   "execution_count": null,
   "metadata": {},
   "outputs": [],
   "source": [
    "# Defining the quantum circuit\n",
    "circuit2 = QuantumCircuit(qr, cr)\n",
    "\n",
    "# Set the random state flag\n",
    "rnd_flag = 1\n",
    "\n",
    "if rnd_flag:\n",
    "    ket_psi = random_statevector(2)\n",
    "    circuit2.initialize([ket_psi[0], ket_psi[1]], 0)\n",
    "else:\n",
    "    circuit2.initialize([3 / 5, 4 / 5], 0)\n",
    "\n",
    "# Obtain the state vector \n",
    "resulting_vector, dirac_vector = obtain_vector(circuit2)\n",
    "# Print the resulting transformation\n",
    "\n",
    "# Drawing the circuit\n"
   ]
  },
  {
   "cell_type": "code",
   "execution_count": null,
   "metadata": {},
   "outputs": [],
   "source": [
    "# Plot the resulting state in the Bloch sphere\n",
    "print(\"Bloch sphere:\")\n",
    "resulting_vector.draw('bloch')"
   ]
  },
  {
   "cell_type": "markdown",
   "metadata": {},
   "source": [
    "\n",
    "#### Exercise 1: A bit more complicated circuit\n",
    "\n",
    "During this workshop, we have presented various quantum gates such as the [X gate](https://docs.quantum.ibm.com/api/qiskit/qiskit.circuit.QuantumCircuit#x), the [Hadamard gate](https://docs.quantum.ibm.com/api/qiskit/qiskit.circuit.QuantumCircuit#h), and the [T gate](https://docs.quantum.ibm.com/api/qiskit/qiskit.circuit.QuantumCircuit#t). Single-qubit quantum gates are an important part of Qiskit, hence we will start using them into a more complex circuit.\n",
    "\n",
    "As you may understand, the goal of this workshop is not to present every single gate that you could use in your circuits. However, as you would see, there is a big similarity in the way of using the different quantum gates within a quantum circuit.\n",
    "\n",
    "In the following exercise you will: 1) implement a simple quantum circuit, 2) perform the simulation, 3) present the results and 4) plot the resulting quantum state. The circuit is the following:\n",
    "\n",
    "![Exercise1](mid_way_src/exercise1.png)"
   ]
  },
  {
   "cell_type": "code",
   "execution_count": null,
   "metadata": {},
   "outputs": [],
   "source": [
    "# Write your own solution\n"
   ]
  },
  {
   "cell_type": "markdown",
   "metadata": {},
   "source": [
    "Now, run the simulation for a larger number of shots and plot the histogram. Is this the result that you were expecting?"
   ]
  },
  {
   "cell_type": "code",
   "execution_count": null,
   "metadata": {},
   "outputs": [],
   "source": [
    "# Write your own solution\n"
   ]
  },
  {
   "cell_type": "markdown",
   "metadata": {},
   "source": [
    "#### Exercise 2: Multi-qubit systems\n",
    "\n",
    "You could, correctly, assume that single-qubits quantum systems are not powerful enough. It is necessary to have multi-qubits systems and they also have to be easily implemented on Qiskit. Luckily for us, they are. You only have to follow the same pattern as for single-qubit systems but increasing the number of qubits.\n",
    "\n",
    "During the workshop, we have discussed the concept of `Uniform Superposition`. I have mentioned that when you have a three qubit system, you will have 8 distinguishable states: $\\ket{000}$, $\\ket{001}$, $\\ket{010}$, $\\ldots$, $\\ket{111}$. Moreover, when in uniform superposition, each state has the same probability of occurrence: $\\mathbf{Pr}\\left\\{ M(\\ket{q_{2}q_{1}q_{0}}) \\right\\} = 0.125$.\n",
    "\n",
    "The circuit for uniform superposition is fairly simple. You just need to add Hadamard gates to all the qubits in the system, as follows:\n",
    "\n",
    "![Exercise2](mid_way_src/exercise2.png)\n",
    "\n",
    "Build the proposed circuit, run the simulation but only use 100 shots and plot the histogram with the results. Did you manage to get $\\mathbf{Pr}\\left\\{ M(\\ket{q_{2}q_{1}q_{0}}) \\right\\} = 0.125$?"
   ]
  },
  {
   "cell_type": "code",
   "execution_count": null,
   "metadata": {},
   "outputs": [],
   "source": [
    "# Write your own solution\n"
   ]
  },
  {
   "cell_type": "markdown",
   "metadata": {},
   "source": [
    "#### Exercise 3: Multi-qubit gates\n",
    "\n",
    "Until now, we have been working on multi-qubit systems, but operating on each qubit separately. Our gates have been applied to single qubits at every time. Let's move to a scenario involving multi-qubit gates (one gate acting on two qubits at the same time). In order to do that, you will need the [CX gate](https://docs.quantum.ibm.com/api/qiskit/qiskit.circuit.QuantumCircuit#cx).\n",
    "\n",
    "You will implement the following quantum circuit (preparing entanglement, remember), run the simulation and plot the histogram.\n",
    "\n",
    "![Exercise3](mid_way_src/exercise3.png)"
   ]
  },
  {
   "cell_type": "code",
   "execution_count": null,
   "metadata": {},
   "outputs": [],
   "source": [
    "# Write your own solution\n"
   ]
  }
 ],
 "metadata": {
  "kernelspec": {
   "display_name": "qiskit1p0",
   "language": "python",
   "name": "python3"
  },
  "language_info": {
   "codemirror_mode": {
    "name": "ipython",
    "version": 3
   },
   "file_extension": ".py",
   "mimetype": "text/x-python",
   "name": "python",
   "nbconvert_exporter": "python",
   "pygments_lexer": "ipython3",
   "version": "3.9.12"
  }
 },
 "nbformat": 4,
 "nbformat_minor": 2
}
