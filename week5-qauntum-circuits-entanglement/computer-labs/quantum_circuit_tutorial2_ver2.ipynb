{
 "cells": [
  {
   "cell_type": "markdown",
   "metadata": {},
   "source": [
    "#  Intro to Quantum Computing with Qiskit \n",
    "### Tutorial 2 + the project: Basics of Quantum Circuits\n",
    "\n",
    "|||\n",
    "|-|-|\n",
    "|**Author:** |Taha Selim|\n",
    "|**Date:** |April 19th, 2024|\n",
    "|**Tutrial 2:** |**Version 0** <br/>*Basics of Quantum Circuits*|\n",
    "|**License:** |MIT License / Taha Selim|\n",
    "|**Qiskit:** |1.0|\n",
    "|**Contact:** | t.i.m.m.selim2@hva.nl\n"
   ]
  },
  {
   "cell_type": "markdown",
   "metadata": {},
   "source": [
    "In this tutorial, we will learn the basics of quantum circuits. We will start with the basic quantum gates and then move on to more complex circuits. We will also learn how to simulate quantum circuits using Qiskit.\n",
    "\n",
    "Let's get started!"
   ]
  },
  {
   "cell_type": "markdown",
   "metadata": {},
   "source": [
    "### **Part 1**\n",
    "\n",
    "We will start by refreshing our knowledge of programming. After, we will learn how to create classical bits, quantum bits, and gates. "
   ]
  },
  {
   "cell_type": "markdown",
   "metadata": {},
   "source": [
    "Let's import `numpy` first. We will need it to do the first few excercises."
   ]
  },
  {
   "cell_type": "code",
   "execution_count": 2,
   "metadata": {},
   "outputs": [],
   "source": [
    "# Import numpy \n",
    "import numpy as np\n",
    "import matplotlib.pyplot as plt\n",
    "%matplotlib inline"
   ]
  },
  {
   "cell_type": "markdown",
   "metadata": {},
   "source": [
    "\n",
    "\n",
    "First, create a function that initializes a qubit in the state $|0\\rangle$. Typically, qubits are created in the ground state. \n",
    "You will program this function in the next cell using the following code: \n",
    "\n",
    "```python\n",
    "def initialize_qubit(): \n",
    "    ket0 = np.array([[1], [0]])\n",
    "    return ket0\n",
    "\n",
    "```"
   ]
  },
  {
   "cell_type": "code",
   "execution_count": 3,
   "metadata": {},
   "outputs": [],
   "source": [
    "# Run the following code \n",
    "def initialize_qubit():\n",
    "    ket0 = np.array([[1], [0]])\n",
    "    return ket0"
   ]
  },
  {
   "cell_type": "markdown",
   "metadata": {},
   "source": [
    "You can run and check your code with the following cell."
   ]
  },
  {
   "cell_type": "code",
   "execution_count": 4,
   "metadata": {},
   "outputs": [
    {
     "name": "stdout",
     "output_type": "stream",
     "text": [
      "[[1]\n",
      " [0]]\n"
     ]
    }
   ],
   "source": [
    "# test the function\n",
    "ket0 = initialize_qubit()\n",
    "# print the result\n",
    "print(ket0)"
   ]
  },
  {
   "cell_type": "markdown",
   "metadata": {},
   "source": [
    "Now, let's create a function that initializes a qubit in the state $|1\\rangle$."
   ]
  },
  {
   "cell_type": "code",
   "execution_count": 5,
   "metadata": {},
   "outputs": [],
   "source": [
    "# Create a function that initializes a qubit to the state |1⟩\n",
    "def initialize_qubit():\n",
    "    ket1 = np.array([[0], [1]])\n",
    "    return ket1"
   ]
  },
  {
   "cell_type": "markdown",
   "metadata": {},
   "source": [
    "Let's define a function that applies the X gate to a qubit. The X gate is a quantum gate that flips the state of a qubit. It is represented by the following matrix:\n",
    "$$\n",
    "X = \\begin{bmatrix} 0 & 1 \\\\ 1 & 0 \\end{bmatrix}\n",
    "$$"
   ]
  },
  {
   "cell_type": "code",
   "execution_count": 6,
   "metadata": {},
   "outputs": [],
   "source": [
    "# Create a function that applies the X gate to a qubit \n",
    "def apply_x_gate(ket):\n",
    "    X = np.array([[0, 1], [1, 0]])\n",
    "    return np.dot(X, ket)"
   ]
  },
  {
   "cell_type": "markdown",
   "metadata": {},
   "source": [
    "Create a function that applies a Hadamard gate to a qubit. The Hadamard gate is a quantum gate that creates superposition. It is represented by the following matrix:\n",
    "\n",
    "$$\n",
    "H = \\frac{1}{\\sqrt{2}} \\begin{bmatrix} 1 & 1 \\\\ 1 & -1 \\end{bmatrix}\n",
    "$$"
   ]
  },
  {
   "cell_type": "code",
   "execution_count": 7,
   "metadata": {},
   "outputs": [],
   "source": [
    "# code the function \n",
    "def apply_hadamard(ket): \n",
    "    hadamard = np.array([[1, 1], [1, -1]]) / np.sqrt(2)\n",
    "    return np.dot(hadamard, ket)"
   ]
  },
  {
   "cell_type": "markdown",
   "metadata": {},
   "source": [
    "Let's test the action of the Hadamard gate on a qubit in the state $|0\\rangle$ by executing the following code:\n",
    "\n",
    "```python\n",
    "ket0 = initialize_qubit()\n",
    "ket_Haction = apply_hadamard(ket0)\n",
    "print(ketH)\n",
    "```"
   ]
  },
  {
   "cell_type": "code",
   "execution_count": 8,
   "metadata": {},
   "outputs": [
    {
     "name": "stdout",
     "output_type": "stream",
     "text": [
      "[[ 0.70710678]\n",
      " [-0.70710678]]\n"
     ]
    }
   ],
   "source": [
    "# test the function\n",
    "ket0 = initialize_qubit()\n",
    "ketH = apply_hadamard(ket0)\n",
    "print(ketH)"
   ]
  },
  {
   "cell_type": "markdown",
   "metadata": {},
   "source": [
    "#### Question\n",
    "What do you think the output? Can you interpret the results? Can you tell us about the quantum state of the qubit after applying the Hadamard gate?"
   ]
  },
  {
   "cell_type": "markdown",
   "metadata": {},
   "source": [
    "####### you can write your answer here"
   ]
  },
  {
   "cell_type": "markdown",
   "metadata": {},
   "source": [
    "Often, we need to measure the qubits to extract information from them. Typically, we perform the measurements in a computational basis or on the z-axis. The computational basis is represented by the states $|0\\rangle$ and $|1\\rangle$. Hence, when we measure, we will get either $|0\\rangle$ or $|1\\rangle$.\n",
    "\n",
    "In the next cell, we have a function that measures a qubit. You can run the code to see the results.\n",
    "\n",
    "```python\n",
    "def measure_qubit(ket):\n",
    "    prob0 = np.abs(ket[0])**2\n",
    "    prob1 = np.abs(ket[1])**2\n",
    "    result = np.random.choice([0, 1], p=[prob0, prob1])\n",
    "    return result\n",
    "```\n",
    "\n",
    "Notice, that the qubit state is normalized. If not, you need to renormalize the state after the measurement."
   ]
  },
  {
   "cell_type": "code",
   "execution_count": 9,
   "metadata": {},
   "outputs": [],
   "source": [
    "# code the function\n",
    "def measure_qubit(ket):\n",
    "    prob0 = np.abs(ket[0, 0])**2\n",
    "    measurement = np.random.choice([0, 1], p=[prob0, 1 - prob0])\n",
    "    return measurement"
   ]
  },
  {
   "cell_type": "markdown",
   "metadata": {},
   "source": [
    "You can test the measurements in the next cell by running the following code:\n",
    "\n",
    "```python\n",
    "ket0 = initialize_qubit()\n",
    "ket_Haction = apply_hadamard(ket0)\n",
    "measurement = measure_qubit(ket_Haction)\n",
    "print(measurement)\n",
    "```"
   ]
  },
  {
   "cell_type": "code",
   "execution_count": 10,
   "metadata": {},
   "outputs": [
    {
     "name": "stdout",
     "output_type": "stream",
     "text": [
      "1\n"
     ]
    }
   ],
   "source": [
    "# test measurement\n",
    "ket0 = initialize_qubit()\n",
    "ket_Haction = apply_hadamard(ket0)\n",
    "measurement = measure_qubit(ket_Haction)\n",
    "print(measurement)"
   ]
  },
  {
   "cell_type": "markdown",
   "metadata": {},
   "source": [
    "Note the randomness of the measurement. The measurement is probabilistic, and we can only predict the outcome with a certain probability. To get a feeling for the randomness, you can run the code multiple times. In the next cell, we are going to do so multiple times.\n",
    "\n",
    "```python\n",
    "for i in range(10):\n",
    "    ket0 = initialize_qubit()\n",
    "    ket_Haction = apply_hadamard(ket0)\n",
    "    measurement = measure_qubit(ket_Haction)\n",
    "    print(measurement)\n",
    "```"
   ]
  },
  {
   "cell_type": "code",
   "execution_count": 11,
   "metadata": {},
   "outputs": [
    {
     "name": "stdout",
     "output_type": "stream",
     "text": [
      "0\n",
      "1\n",
      "1\n",
      "1\n",
      "1\n",
      "0\n",
      "0\n",
      "0\n",
      "0\n",
      "0\n"
     ]
    }
   ],
   "source": [
    "# code the function\n",
    "for i in range(10):\n",
    "    ket0 = initialize_qubit()\n",
    "    ket_Haction = apply_hadamard(ket0)\n",
    "    measurement = measure_qubit(ket_Haction)\n",
    "    print(measurement)"
   ]
  },
  {
   "cell_type": "markdown",
   "metadata": {},
   "source": [
    "Hopefully, you are seeing the alternation already, but we can also visualize the results. In the next cell, we will plot the results of the measurements. First, we need to import the `matplotlib` library. You can do so by running the following code:\n",
    "\n",
    "```python\n",
    "import matplotlib.pyplot as plt\n",
    "```\n",
    "\n",
    "Now, you can run the following code to plot the results of the measurements:\n",
    "\n",
    "```python\n",
    "results = []\n",
    "for i in range(1000):\n",
    "    ket0 = initialize_qubit()\n",
    "    ket_Haction = apply_hadamard(ket0)\n",
    "    measurement = measure_qubit(ket_Haction)\n",
    "    results.append(measurement)\n",
    "\n",
    "plt.hist(results)\n",
    "plt.show()\n",
    "```\n"
   ]
  },
  {
   "cell_type": "code",
   "execution_count": 12,
   "metadata": {},
   "outputs": [
    {
     "data": {
      "image/png": "[encoded data removed]",
      "text/plain": [
       "<Figure size 432x288 with 1 Axes>"
      ]
     },
     "metadata": {
      "needs_background": "light"
     },
     "output_type": "display_data"
    }
   ],
   "source": [
    "# code the plotting \n",
    "\n",
    "\n",
    "results = []\n",
    "for i in range(1000):\n",
    "    ket0 = initialize_qubit()\n",
    "    ket_Haction = apply_hadamard(ket0)\n",
    "    measurement = measure_qubit(ket_Haction)\n",
    "    results.append(measurement)\n",
    "# make a histogram of the results at |0> and |1> as two columns only\n",
    "plt.hist(results , bins=2, align='mid', rwidth=0.1, color='blue', edgecolor='black')\n",
    "# set the x-axis ticks to be at the center of the columns\n",
    "plt.xticks([0.25, 0.75], ['|0>', '|1>'])\n",
    "\n",
    "# If plt.show() didn't workout, please refer to the command below\n",
    "fig1=plt.show()\n"
   ]
  },
  {
   "cell_type": "markdown",
   "metadata": {},
   "source": [
    "Now, you can test the convergence, by increasing the number of measurements. You can do so by changing the range in the for loop.\n",
    "**Do you see the convergence to the expected probabilities?**"
   ]
  },
  {
   "cell_type": "code",
   "execution_count": 13,
   "metadata": {},
   "outputs": [
    {
     "data": {
      "image/png": "[encoded data removed]",
      "text/plain": [
       "<Figure size 432x288 with 1 Axes>"
      ]
     },
     "metadata": {
      "needs_background": "light"
     },
     "output_type": "display_data"
    }
   ],
   "source": [
    "# Change the range of the loop to 10000\n",
    "results = []\n",
    "for i in range(10000):\n",
    "    ket0 = initialize_qubit()\n",
    "    ket_Haction = apply_hadamard(ket0)\n",
    "    measurement = measure_qubit(ket_Haction)\n",
    "    results.append(measurement)\n",
    "# make a histogram of the results at |0> and |1> as two columns only\n",
    "plt.hist(results , bins=2, align='mid', rwidth=0.1, color='blue', edgecolor='black')\n",
    "# set the x-axis ticks to be at the center of the columns\n",
    "plt.xticks([0.25, 0.75], ['|0>', '|1>'])\n",
    "plt.show()\n"
   ]
  },
  {
   "cell_type": "markdown",
   "metadata": {},
   "source": [
    "Part 1 is done. You can now move on to Part 2."
   ]
  },
  {
   "cell_type": "markdown",
   "metadata": {},
   "source": [
    "### **Part 2**\n",
    "Part 2 is about creating quantum circuits using Qiskit. You can find the instructions in the next cell."
   ]
  },
  {
   "cell_type": "markdown",
   "metadata": {},
   "source": [
    "We will learn how to simulate quantum circuits using Qiskit. First, we will install Qiskit using the following code:\n",
    "\n",
    "```python\n",
    "!pip install qiskit\n",
    "```\n",
    "\n",
    "Check first if Qiskit is already installed in your environment. If not, install it using the code above."
   ]
  },
  {
   "cell_type": "markdown",
   "metadata": {},
   "source": [
    "Then, we need to import the necessary libraries. Run the following code:\n",
    "\n",
    "```python\n",
    "\n",
    "# Import the necessary libraries \n",
    "import numpy as np\n",
    "import matplotlib.pyplot as plt\n",
    "\n",
    "```"
   ]
  },
  {
   "cell_type": "markdown",
   "metadata": {},
   "source": [
    "Then, import the necessary Qiskit libraries:\n",
    "\n",
    "```python\n",
    "# Import qiskit libraries\n",
    "from qiskit import QuantumCircuit, ClassicalRegister, QuantumRegister\n",
    "from qiskit.circuit import Parameter\n",
    "```"
   ]
  },
  {
   "cell_type": "code",
   "execution_count": 14,
   "metadata": {},
   "outputs": [],
   "source": [
    "# Import qiskit libraries\n",
    "from qiskit import QuantumCircuit, ClassicalRegister, QuantumRegister\n",
    "from qiskit.circuit import Parameter"
   ]
  },
  {
   "cell_type": "markdown",
   "metadata": {},
   "source": [
    "Quantum computers are based on quantum bits or qubits. Qubits can be in a superposition of states, which allows quantum computers to perform multiple calculations at the same time. \n",
    "\n",
    "To perform computations with quantum computers, we need to translate our problem or algorithm in a quantum circuit. A quantum circuit is defined as a sequence of quantum gates that act on qubits. Quantum circuits typically ends with measurements of the qubits.\n",
    "\n",
    "Similar to classical computers, quantum computers have classical bits to store the results of the computations. In Qiskit, we can define classical bits using the `ClassicalRegister` class. While quantum bits are defined using the `QuantumRegister` class. Quantum bits are the qubits that we are operating with gates on them. "
   ]
  },
  {
   "cell_type": "markdown",
   "metadata": {},
   "source": [
    "Let's create now a simple quantum circuit with one qubit. We will apply the Hadamard gate to the qubit and then measure it using qiskit. We will compare the results from qiskit with the results from our previous code (our model).\n",
    "\n",
    "```python"
   ]
  },
  {
   "cell_type": "markdown",
   "metadata": {},
   "source": [
    "To create or initialize a quantum register with qiskit, we use the following code:\n",
    "\n",
    "```python\n",
    "# Create a quantum register with 1 qubit\n",
    "qreg = QuantumRegister(1)\n",
    "```\n"
   ]
  },
  {
   "cell_type": "code",
   "execution_count": 15,
   "metadata": {},
   "outputs": [],
   "source": [
    "# Create a quantum register of 1 qubit\n",
    "qreg = QuantumRegister(1)"
   ]
  },
  {
   "cell_type": "markdown",
   "metadata": {},
   "source": [
    "Often, we need to do measurements on the qubits. To do this, we need to create a classical register. We can create a classical register with the following code:\n",
    "\n",
    "```python\n",
    "# Create a classical register with 1 bit\n",
    "creg = ClassicalRegister(1)\n",
    "```"
   ]
  },
  {
   "cell_type": "code",
   "execution_count": 16,
   "metadata": {},
   "outputs": [],
   "source": [
    "# create a classical register of 1 bit\n",
    "creg = ClassicalRegister(1)"
   ]
  },
  {
   "cell_type": "markdown",
   "metadata": {},
   "source": [
    "In Qiskit, once we have created the quantum and classical registers, we can create a quantum circuit using the following code:\n",
    "\n",
    "```python\n",
    "# Create a quantum circuit\n",
    "qc = QuantumCircuit(qreg, creg)\n",
    "```\n",
    "\n",
    "Note that, `qc` denotes the quantum circuit. We can now add gates to the quantum circuit. To add a Hadamard gate to the quantum circuit, we use the following code:\n",
    "\n",
    "```python\n",
    "# Add a Hadamard gate to the quantum circuit\n",
    "qc.h(qreg[0])\n",
    "```"
   ]
  },
  {
   "cell_type": "markdown",
   "metadata": {},
   "source": [
    "With the above knowledge, you can now create a quantum circuit that applies the Hadamard gate to a qubit and then measures the qubit. First, we start by creating a quantum circuit with a classical register of 1 classical bit and a quantum register of 1 qubit. "
   ]
  },
  {
   "cell_type": "code",
   "execution_count": 17,
   "metadata": {},
   "outputs": [],
   "source": [
    "# Create a quantum circuit with qreg and creg\n",
    "qc = QuantumCircuit(qreg, creg)"
   ]
  },
  {
   "cell_type": "markdown",
   "metadata": {},
   "source": [
    "We can also print the circuit using the following code:\n",
    "\n",
    "```python\n",
    "# Print the circuit\n",
    "print(qc)\n",
    "```"
   ]
  },
  {
   "cell_type": "code",
   "execution_count": 20,
   "metadata": {},
   "outputs": [
    {
     "name": "stdout",
     "output_type": "stream",
     "text": [
      "      \n",
      "  q0: \n",
      "      \n",
      "c0: 1/\n",
      "      \n"
     ]
    }
   ],
   "source": [
    "# print the circuit\n",
    "print(qc)"
   ]
  },
  {
   "cell_type": "markdown",
   "metadata": {},
   "source": [
    "If we would like to have the circuit in a graphical form, we can use the following code:\n",
    "\n",
    "```python\n",
    "# Draw the circuit\n",
    "qc.draw()\n",
    "```"
   ]
  },
  {
   "cell_type": "code",
   "execution_count": 19,
   "metadata": {},
   "outputs": [
    {
     "data": {
      "image/png": "[encoded data removed]",
      "text/plain": [
       "<Figure size 116.407x144.48 with 1 Axes>"
      ]
     },
     "execution_count": 19,
     "metadata": {},
     "output_type": "execute_result"
    }
   ],
   "source": [
    "# Draw the circuit\n",
    "qc.draw(output='mpl')\n",
    "#display(qc.draw(output='mpl'))"
   ]
  },
  {
   "cell_type": "markdown",
   "metadata": {},
   "source": [
    "We can now apply a quantum gate like the Hadamard gate to the qubit. We can do this using the following code:\n",
    "\n",
    "```python\n",
    "# Apply the Hadamard gate to the qubit\n",
    "qc.h(q[0])\n",
    "```\n",
    "\n",
    "Notice here, qubits are taken as an array. So, if we have more than one qubit, we can access them using the array index."
   ]
  },
  {
   "cell_type": "code",
   "execution_count": 20,
   "metadata": {},
   "outputs": [
    {
     "data": {
      "image/png": "[encoded data removed]",
      "text/plain": [
       "<Figure size 146.507x144.48 with 1 Axes>"
      ]
     },
     "execution_count": 20,
     "metadata": {},
     "output_type": "execute_result"
    }
   ],
   "source": [
    "# Apply a Hadamard gate on qubit 0\n",
    "qc.h(qreg[0])\n",
    "\n",
    "# Draw the circuit\n",
    "qc.draw(output='mpl')"
   ]
  },
  {
   "cell_type": "markdown",
   "metadata": {},
   "source": [
    "Often, we need to measure the qubits. We can do this using the following code:\n",
    "\n",
    "```python\n",
    "# Measure the qubit\n",
    "qc.measure(q, c)\n",
    "```\n",
    "\n",
    "Here, it means that we are measuring the qubit and storing the result in the classical register.\n",
    "\n"
   ]
  },
  {
   "cell_type": "code",
   "execution_count": 21,
   "metadata": {},
   "outputs": [
    {
     "name": "stdout",
     "output_type": "stream",
     "text": [
      "      ┌───┐┌─┐\n",
      "  q0: ┤ H ├┤M├\n",
      "      └───┘└╥┘\n",
      "c0: 1/══════╩═\n",
      "            0 \n"
     ]
    }
   ],
   "source": [
    "# Measure qubit 0\n",
    "qc.measure(qreg[0], creg[0])\n",
    "\n",
    "# print the result\n",
    "print(qc)\n",
    "\n"
   ]
  },
  {
   "cell_type": "code",
   "execution_count": 22,
   "metadata": {},
   "outputs": [
    {
     "data": {
      "image/png": "[encoded data removed]",
      "text/plain": [
       "<Figure size 206.707x144.48 with 1 Axes>"
      ]
     },
     "execution_count": 22,
     "metadata": {},
     "output_type": "execute_result"
    }
   ],
   "source": [
    "# Draw the circuit\n",
    "qc.draw(output='mpl')\n"
   ]
  },
  {
   "cell_type": "markdown",
   "metadata": {},
   "source": [
    "Qiskit allows us to get the circuit attributes at any time during the construction and the computation. We can retrieve several attributes of the quantum circuit like the number of qubits, the number of classical bits, and the number of gates using the following code:\n",
    "\n",
    "```python\n",
    "# Get the number of qubits\n",
    "print(qc.num_qubits)\n",
    "\n",
    "# Get the number of classical bits\n",
    "print(qc.num_clbits)\n",
    "\n",
    "# Get the number of gates\n",
    "print(qc.size())\n",
    "```"
   ]
  },
  {
   "cell_type": "code",
   "execution_count": 23,
   "metadata": {},
   "outputs": [
    {
     "name": "stdout",
     "output_type": "stream",
     "text": [
      "[QuantumRegister(1, 'q0')]\n",
      "[ClassicalRegister(1, 'c0')]\n",
      "[CircuitInstruction(operation=Instruction(name='h', num_qubits=1, num_clbits=0, params=[]), qubits=(Qubit(QuantumRegister(1, 'q0'), 0),), clbits=()), CircuitInstruction(operation=Instruction(name='measure', num_qubits=1, num_clbits=1, params=[]), qubits=(Qubit(QuantumRegister(1, 'q0'), 0),), clbits=(Clbit(ClassicalRegister(1, 'c0'), 0),))]\n"
     ]
    }
   ],
   "source": [
    "# print attributes of the circuit\n",
    "print(qc.qregs)\n",
    "print(qc.cregs)\n",
    "print(qc.data)\n"
   ]
  },
  {
   "cell_type": "markdown",
   "metadata": {},
   "source": [
    "You can also retrieve the qubit statevector using the following code:\n",
    "\n",
    "```python\n",
    "# Import the necessary libraries\n",
    "from qiskit.quantum_info import partial_trace, Statevector\n",
    "\n",
    "# Get the qubit statevector\n",
    "qc.save_statevector()\n",
    "```\n"
   ]
  },
  {
   "cell_type": "markdown",
   "metadata": {},
   "source": [
    "#### Example: \n",
    "\n",
    "Construct a quantum circuit of a single qubit and a single classical bit. \n",
    "\n",
    "Then, apply the Hadamard gate to the qubit and compare the newely obtained statevector to the statevector of the qubit when it is initialized in the state $|0\\rangle$.\n",
    "\n",
    "We can execute this using the following code example: \n",
    "\n",
    "```python\n",
    "# Get the statevector of the circuit\n",
    "from qiskit.quantum_info import partial_trace, Statevector\n",
    "\n",
    "\n",
    "qreg = QuantumRegister(1)\n",
    "creg = ClassicalRegister(1)\n",
    "qc = QuantumCircuit(qreg, creg)\n",
    "\n",
    "qc.h(qreg[0])\n",
    "\n",
    "sv = Statevector(qc)\n",
    "\n",
    "print(sv)\n",
    "```"
   ]
  },
  {
   "cell_type": "code",
   "execution_count": 24,
   "metadata": {},
   "outputs": [
    {
     "name": "stdout",
     "output_type": "stream",
     "text": [
      "Statevector([0.70710678+0.j, 0.70710678+0.j],\n",
      "            dims=(2,))\n"
     ]
    }
   ],
   "source": [
    "# Get the statevector of the circuit\n",
    "from qiskit.quantum_info import partial_trace, Statevector\n",
    "\n",
    "qreg = QuantumRegister(1)\n",
    "creg = ClassicalRegister(1)\n",
    "qc = QuantumCircuit(qreg, creg)\n",
    "\n",
    "qc.h(qreg[0])\n",
    "\n",
    "sv = Statevector(qc)\n",
    "print(sv)"
   ]
  },
  {
   "cell_type": "markdown",
   "metadata": {},
   "source": [
    "#### Question \n",
    "What do you conclude when seeing the matrix elements of the statevector? \n",
    "\n",
    "Does it tell about the superposition? "
   ]
  },
  {
   "cell_type": "markdown",
   "metadata": {},
   "source": [
    "######## Write your answer here."
   ]
  },
  {
   "cell_type": "markdown",
   "metadata": {},
   "source": [
    "We can represent the effect or the transformation that the action of the Hadamard gate did to the single qubit state. We can do this by plotting the statevector of the qubit before and after the Hadamard gate using bloch spheres.\n",
    "\n",
    "First, we need to import the necessary libraries: `plot_bloch_multivector` from  `qiskit.visualization`. You can do this by running the following code:\n",
    "\n",
    "```python\n",
    "from qiskit.visualization import plot_bloch_multivector\n",
    "```\n",
    "\n",
    "Then, we can plot the statevector of the qubit before and after the Hadamard gate using the following code:\n",
    "\n",
    "```python\n",
    "# Plot the statevector of the qubit before the Hadamard gate\n",
    "plot_bloch_multivector(sv)\n",
    "```"
   ]
  },
  {
   "cell_type": "code",
   "execution_count": 25,
   "metadata": {},
   "outputs": [],
   "source": [
    "from qiskit.visualization import plot_bloch_multivector"
   ]
  },
  {
   "cell_type": "markdown",
   "metadata": {},
   "source": [
    "Execute the following cell of code:"
   ]
  },
  {
   "cell_type": "code",
   "execution_count": 26,
   "metadata": {},
   "outputs": [
    {
     "data": {
      "image/png": "[encoded data removed]",
      "text/plain": [
       "<Figure size 288x288 with 1 Axes>"
      ]
     },
     "execution_count": 26,
     "metadata": {},
     "output_type": "execute_result"
    }
   ],
   "source": [
    "state = Statevector.from_instruction(qc)\n",
    "plot_bloch_multivector(state)"
   ]
  },
  {
   "cell_type": "markdown",
   "metadata": {},
   "source": [
    "#### Question\n",
    "\n",
    "Now, let's extend the code a bit. Create the same quantum circuit of one qubit and one classical bit, however this time apply the Hadamard gate twice to the qubit and print the statevector of the qubit. Use the blocksphere to represent the change in the qubit state at each action. Also, compare the statevector to the statevector of the qubit when it is initialized in the state $|0\\rangle$.\n"
   ]
  },
  {
   "cell_type": "code",
   "execution_count": 27,
   "metadata": {},
   "outputs": [
    {
     "data": {
      "image/png": "[encoded data removed]",
      "text/plain": [
       "<Figure size 288x288 with 1 Axes>"
      ]
     },
     "execution_count": 27,
     "metadata": {},
     "output_type": "execute_result"
    }
   ],
   "source": [
    "# First, we create the classical and quantum registers: one qubit and one classical bit\n",
    "qreg = QuantumRegister(1)\n",
    "creg = ClassicalRegister(1)\n",
    "# Create a quantum circuit with qreg and creg\n",
    "qc = QuantumCircuit(qreg, creg)\n",
    "\n",
    "# Apply the first Hadamard gate on qubit 0\n",
    "qc.h(qreg[0])\n",
    "\n",
    "# Demonstrate the action of the first Hadamard gate action on the qubit state\n",
    "state = Statevector.from_instruction(qc)\n",
    "plot_bloch_multivector(state)\n"
   ]
  },
  {
   "cell_type": "code",
   "execution_count": 28,
   "metadata": {},
   "outputs": [
    {
     "data": {
      "image/png": "[encoded data removed]",
      "text/plain": [
       "<Figure size 288x288 with 1 Axes>"
      ]
     },
     "execution_count": 28,
     "metadata": {},
     "output_type": "execute_result"
    }
   ],
   "source": [
    "# Apply a second Hadamard gate on qubit 0\n",
    "qc.h(qreg[0])\n",
    "\n",
    "# Demonstrate the action of the second Hadamard gate action on the qubit state\n",
    "state2 = Statevector.from_instruction(qc)\n",
    "plot_bloch_multivector(state2)"
   ]
  },
  {
   "cell_type": "markdown",
   "metadata": {},
   "source": [
    "We can perform measurements on the whole qubits or on a specific qubit. \n",
    "\n",
    "On a specific qubit, as mentioned before:\n",
    "```python\n",
    "# Measure the qubit\n",
    "qc.measure(q[0], c[0])\n",
    "```\n",
    "For measuring all the qubits:\n",
    "```python\n",
    "# Measure all the qubits\n",
    "qc.measure_all()\n",
    "```"
   ]
  },
  {
   "cell_type": "markdown",
   "metadata": {},
   "source": [
    "Example, let's construct a quantum circuit with 2 qubits and apply the CNOT gate to the qubits. We will then measure the qubits and compare the results with our model.\n",
    "\n",
    "```python\n",
    "# Create a quantum register with 2 qubits\n",
    "q = QuantumRegister(2)\n",
    "\n",
    "# Create a classical register with 2 bits\n",
    "c = ClassicalRegister(2)\n",
    "\n",
    "# Create a quantum circuit\n",
    "qc = QuantumCircuit(q, c)\n",
    "\n",
    "# Apply the CNOT gate to the qubits\n",
    "qc.cx(q[0], q[1])\n",
    "\n",
    "# Measure the qubits\n",
    "qc.measure(q, c)\n",
    "\n",
    "# Draw the circuit\n",
    "qc.draw()\n",
    "```\n",
    "\n",
    "You can notice that, when we apply the CNOT gate, we need to specify the control qubit and the target qubit. In this case, q[0] is the control qubit and q[1] is the target qubit.\n",
    "\n",
    "Also, when we perform measurements, we need to specify the qubits to measure. In this case, we are measuring all the qubits. This would mean we get a total measurements of the entire quantum state  of the qubits."
   ]
  },
  {
   "cell_type": "code",
   "execution_count": 29,
   "metadata": {},
   "outputs": [
    {
     "data": {
      "image/png": "[encoded data removed]",
      "text/plain": [
       "<Figure size 357.679x264.88 with 1 Axes>"
      ]
     },
     "execution_count": 29,
     "metadata": {},
     "output_type": "execute_result"
    }
   ],
   "source": [
    "# construct a quantum circuit of two qubits, qreg[0] and qreg[1]\n",
    "qreg = QuantumRegister(2)\n",
    "creg = ClassicalRegister(2)\n",
    "circuit = QuantumCircuit(qreg, creg)\n",
    "\n",
    "# apply CNOT gate with qreg[0] as control and qreg[1] as target\n",
    "circuit.cx(qreg[0], qreg[1])\n",
    "\n",
    "# measure both qubits\n",
    "circuit.measure_all()\n",
    "\n",
    "# draw the circuit\n",
    "circuit.draw(output='mpl')"
   ]
  },
  {
   "cell_type": "markdown",
   "metadata": {},
   "source": [
    "Now, let's simulate the quantum circuit using Qiskit. We can do this using the following code:\n",
    "\n",
    "```python\n",
    "\n",
    "# Import the necessary libraries\n",
    "\n",
    "from qiskit import QuantumCircuit, transpile\n",
    "from qiskit.providers.basic_provider import BasicSimulator\n",
    "\n",
    "# To plot the results, import the following library\n",
    "from qiskit.visualization import plot_histogram\n",
    "\n",
    "# Create a quantum circuit of one qubit and one classical bit\n",
    "qc = QuantumCircuit(1, 1)\n",
    "\n",
    "# Apply the Hadamard gate to the qubit\n",
    "qc.h(0)\n",
    "\n",
    "# Measure the qubit\n",
    "qc.measure(0, 0)\n",
    "\n",
    "# Simulate the quantum circuit\n",
    "simulator = BasicSimulator()\n",
    "\n",
    "# Transpile the quantum circuit\n",
    "job = sim_backend.run(transpile(qc, simulator), shots=1024)\n",
    "\n",
    "# Get the result\n",
    "result = job.result()\n",
    "\n",
    "# Get the counts\n",
    "counts = result.get_counts(qc)\n",
    "\n",
    "# Print the counts\n",
    "print(counts)\n",
    "```\n",
    "\n"
   ]
  },
  {
   "cell_type": "code",
   "execution_count": 30,
   "metadata": {},
   "outputs": [],
   "source": [
    "# First, import the necessary libraries\n",
    "from qiskit import QuantumCircuit, transpile\n",
    "from qiskit.providers.basic_provider import BasicSimulator\n",
    "from qiskit.visualization import plot_histogram\n"
   ]
  },
  {
   "cell_type": "code",
   "execution_count": 31,
   "metadata": {},
   "outputs": [
    {
     "name": "stdout",
     "output_type": "stream",
     "text": [
      "{'00 00': 1024}\n"
     ]
    },
    {
     "data": {
      "image/png": "[encoded data removed]",
      "text/plain": [
       "<Figure size 504x360 with 1 Axes>"
      ]
     },
     "execution_count": 31,
     "metadata": {},
     "output_type": "execute_result"
    }
   ],
   "source": [
    "# Try to run the circuit\n",
    "# Create a quantum circuit of 1 qubit and 1 bit\n",
    "qreg = QuantumRegister(1)\n",
    "creg = ClassicalRegister(1)\n",
    "qc = QuantumCircuit(qreg, creg)\n",
    "\n",
    "# apply Hadamard gate\n",
    "qc.h(qreg[0])\n",
    "\n",
    "# measure the qubit\n",
    "qc.measure(qreg[0], creg[0])\n",
    "\n",
    "# Specify the backend (the simulator)\n",
    "simulator = BasicSimulator()\n",
    "\n",
    "# Transpile the circuit for the simulator\n",
    "compiled_circuit = transpile(circuit, simulator)\n",
    "\n",
    "# Run the compiled circuit\n",
    "job = simulator.run(compiled_circuit)\n",
    "\n",
    "# Get the result\n",
    "result = job.result()\n",
    "\n",
    "# Print the counts\n",
    "print(result.get_counts())\n",
    "\n",
    "# Plot the histogram\n",
    "plot_histogram(result.get_counts())\n"
   ]
  },
  {
   "cell_type": "markdown",
   "metadata": {},
   "source": [
    "#### Question:\n",
    "Notice, what happens when you run the code. Can you interpret the results? Can you tell us about the quantum state of the qubit after applying the Hadamard gate?"
   ]
  },
  {
   "cell_type": "markdown",
   "metadata": {},
   "source": [
    "#### Question: \n",
    "What is the difference between the quantum circuit with one qubit and the quantum circuit with two qubits? Can you explain the difference in the results?"
   ]
  },
  {
   "cell_type": "markdown",
   "metadata": {},
   "source": [
    "#### Question:\n",
    "\n",
    "What happens when you increase the number of shots in the simulation? Can you explain the results?"
   ]
  },
  {
   "cell_type": "markdown",
   "metadata": {},
   "source": [
    "#### Question\n",
    "\n",
    "Now, create a quantum circuit of three qubits:\n",
    "\n",
    " - What is the size of the Hilbert space?\n",
    " - What is the size of the matrix representation of a qubit gate acting on a qubit in the Hilbert space of three qubits?\n",
    " - What is the size of the matrix representation of a two-qubit gate acting on two qubits in the Hilbert space of three qubits?\n",
    " - What is the size of the state vector of the quantum circuit with three qubits?\n"
   ]
  },
  {
   "cell_type": "markdown",
   "metadata": {},
   "source": [
    "\n",
    "Let's do some exercises to test your understanding of quantum circuits:\n",
    "\n",
    "##### Use the circuit that you created in the previous question with three qubits:\n",
    "\n",
    "- Apply the Hadamard gate to the first and second qubits simultaneously. \n",
    "- Then, apply the CNOT gate to the first and second qubits. Draw the circuit. \n",
    "- Finally, measure all the qubits. Simulate the quantum circuit using Qiskit. Can you interpret the results?\n"
   ]
  },
  {
   "cell_type": "code",
   "execution_count": 32,
   "metadata": {},
   "outputs": [
    {
     "data": {
      "image/png": "[encoded data removed]",
      "text/plain": [
       "<Figure size 478.079x264.88 with 1 Axes>"
      ]
     },
     "execution_count": 32,
     "metadata": {},
     "output_type": "execute_result"
    }
   ],
   "source": [
    "from qiskit import QuantumCircuit\n",
    " \n",
    "qc = QuantumCircuit(3)\n",
    "qc.h(0)\n",
    "qc.h(1)\n",
    "qc.cx(1, 2)\n",
    "qc.measure_all()\n",
    " \n",
    " # Draw the circuit\n",
    "qc.draw(output='mpl')"
   ]
  },
  {
   "cell_type": "code",
   "execution_count": 33,
   "metadata": {},
   "outputs": [
    {
     "name": "stdout",
     "output_type": "stream",
     "text": [
      "{'111': 275, '110': 245, '001': 237, '000': 267}\n"
     ]
    },
    {
     "data": {
      "image/png": "[encoded data removed]",
      "text/plain": [
       "<Figure size 504x360 with 1 Axes>"
      ]
     },
     "execution_count": 33,
     "metadata": {},
     "output_type": "execute_result"
    }
   ],
   "source": [
    "# Simulate the circuit\n",
    "\n",
    "# Specify the backend (the simulator)\n",
    "simulator = BasicSimulator()\n",
    "\n",
    "# Transpile the circuit for the simulator\n",
    "compiled_circuit = transpile(qc, simulator)\n",
    "\n",
    "# Run the compiled circuit\n",
    "job = simulator.run(compiled_circuit)\n",
    "\n",
    "# Get the result\n",
    "result = job.result()\n",
    "\n",
    "# Print the counts\n",
    "print(result.get_counts())\n",
    "\n",
    "# Plot the histogram\n",
    "plot_histogram(result.get_counts())"
   ]
  },
  {
   "cell_type": "markdown",
   "metadata": {},
   "source": [
    "### Entaglement\n",
    "\n",
    "Entanglement is a fundamental concept in quantum mechanics. It is a phenomenon where two or more qubits are correlated in such a way that the state of one qubit is coupled with the state of the other qubit. In other words, measuring one qubit will instantly determine the state of the other qubit, regardless of the distance between them. This is a simple definition of entanglement. However, a more precise definition of entanglement will come later in the upcoming tutorials."
   ]
  },
  {
   "cell_type": "markdown",
   "metadata": {},
   "source": [
    "We can create entanglement using quantum gates and a minimum of two qubits. The most common gate used to create entanglement is the CNOT gate. The CNOT gate is a two-qubit gate that flips the target qubit if the control qubit is in the state $|1\\rangle$. The CNOT gate is also known as the controlled-X gate.\n",
    "\n",
    "To create entanglement, we can apply the CNOT gate to two qubits. The control qubit will be the first qubit, and the target qubit will be the second qubit. We can then measure the qubits to see if they are entangled."
   ]
  },
  {
   "cell_type": "markdown",
   "metadata": {},
   "source": [
    "Let's create a quantum circuit with two qubits, apply a Hadamard gate to the first qubit, and then apply the CNOT gate to the qubits in which the first qubit is the control qubit and the second qubit is the target qubit. Finally, we will measure the qubits and simulate the quantum circuit using Qiskit.\n",
    "\n",
    "You can use the following code:\n",
    "```python\n",
    "# Create a quantum register with 2 qubits\n",
    "q = QuantumRegister(2)\n",
    "\n",
    "# Create a classical register with 1 bits\n",
    "c = ClassicalRegister(1)\n",
    "\n",
    "# Create a quantum circuit\n",
    "qc = QuantumCircuit(q, c)\n",
    "\n",
    "# Apply the Hadamard gate to the first qubit\n",
    "qc.h(q[0])\n",
    "\n",
    "# Apply the CNOT gate to the qubits\n",
    "qc.cx(q[0], q[1])\n",
    "\n",
    "# Measure the qubit qubit\n",
    "qc.measureall()\n",
    "\n",
    "# Draw the circuit\n",
    "qc.draw()\n",
    "```\n",
    "\n"
   ]
  },
  {
   "cell_type": "markdown",
   "metadata": {},
   "source": [
    "Question: What happens when you run the code? Can you interpret the results? Can you tell us about the quantum state of the qubits after applying the Hadamard gate and the CNOT gate?"
   ]
  },
  {
   "cell_type": "markdown",
   "metadata": {},
   "source": [
    "Question: Now, apply add X gate to the second qubit and keep applying Hadaamard gate to the first qubit and the CNOT gate to the qubits as in the previous question. Perform the measurements. What do you think the results will be? Can you interpret the results?"
   ]
  },
  {
   "cell_type": "code",
   "execution_count": null,
   "metadata": {},
   "outputs": [],
   "source": []
  },
  {
   "cell_type": "markdown",
   "metadata": {},
   "source": [
    "For more information, you can use qiskit's documentation.\n",
    "\n",
    "Circuit construction:\n",
    "https://docs.quantum.ibm.com/build/circuit-construction"
   ]
  },
  {
   "cell_type": "markdown",
   "metadata": {},
   "source": [
    "#  Intro to Quantum Computing with Qiskit \n",
    "### Tutorial 2: Basics of Quantum Circuits\n",
    "\n",
    "|||\n",
    "|-|-|\n",
    "|**Author:** |Taha Selim|\n",
    "|**Date:** |April 12th, 2024|\n",
    "|**Tutrial 2:** |**1.00**<br/>*Basics of Quantum Circuits*|\n",
    "|**License:** |MIT License / Taha Selim|\n",
    "|**Qiskit:** |1.0.2|\n",
    "|**Contact:** | t.i.m.m.selim2@hva.nl\n",
    "\n",
    "Follow us on Discord channel: https://discord.gg/tY6KqeQY"
   ]
  },
  {
   "cell_type": "code",
   "execution_count": null,
   "metadata": {},
   "outputs": [],
   "source": []
  }
 ],
 "metadata": {
  "kernelspec": {
   "display_name": "Python 3 (ipykernel)",
   "language": "python",
   "name": "python3"
  },
  "language_info": {
   "codemirror_mode": {
    "name": "ipython",
    "version": 3
   },
   "file_extension": ".py",
   "mimetype": "text/x-python",
   "name": "python",
   "nbconvert_exporter": "python",
   "pygments_lexer": "ipython3",
   "version": "3.10.4"
  }
 },
 "nbformat": 4,
 "nbformat_minor": 2
}
